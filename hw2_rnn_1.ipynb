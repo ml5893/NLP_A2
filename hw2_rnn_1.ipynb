{
 "cells": [
  {
   "cell_type": "code",
   "execution_count": 1,
   "metadata": {},
   "outputs": [],
   "source": [
    "import csv\n",
    "from nltk import ngrams\n",
    "import string\n",
    "import re\n",
    "import pickle as pkl\n",
    "import numpy as np"
   ]
  },
  {
   "cell_type": "code",
   "execution_count": 2,
   "metadata": {},
   "outputs": [],
   "source": [
    "data_val = []\n",
    "with open('snli_val.tsv','r', encoding = 'utf-8', newline = '') as file:\n",
    "    tsvreader = csv.reader(file, delimiter='\\t')\n",
    "    data_val = [line for line in tsvreader]\n",
    "    \n",
    "data_train = []\n",
    "with open('snli_train.tsv','r', encoding = 'utf-8', newline = '') as file:\n",
    "    tsvreader = csv.reader(file, delimiter='\\t')\n",
    "    data_train = [line for line in tsvreader]"
   ]
  },
  {
   "cell_type": "code",
   "execution_count": 3,
   "metadata": {},
   "outputs": [
    {
     "name": "stdout",
     "output_type": "stream",
     "text": [
      "Train dataset size is 100001\n",
      "Validation dataset size is 1001\n"
     ]
    }
   ],
   "source": [
    "print(\"Train dataset size is {}\".format(len(data_train)))\n",
    "print(\"Validation dataset size is {}\".format(len(data_val)))"
   ]
  },
  {
   "cell_type": "code",
   "execution_count": 5,
   "metadata": {},
   "outputs": [],
   "source": [
    "data_val_s1, data_val_s2, data_val_label = zip(*data_val)\n",
    "data_train_s1, data_train_s2, data_train_label = zip(*data_train)"
   ]
  },
  {
   "cell_type": "code",
   "execution_count": 6,
   "metadata": {},
   "outputs": [],
   "source": [
    "data_val_s1 = data_val_s1[1:]\n",
    "data_val_s2 = data_val_s2[1:]\n",
    "data_val_label = data_val_label[1:]\n",
    "data_train_s1 = data_train_s1[1:]\n",
    "data_train_s2 = data_train_s2[1:]\n",
    "data_train_label = data_train_label[1:]"
   ]
  },
  {
   "cell_type": "code",
   "execution_count": 7,
   "metadata": {},
   "outputs": [
    {
     "data": {
      "text/plain": [
       "1000"
      ]
     },
     "execution_count": 7,
     "metadata": {},
     "output_type": "execute_result"
    }
   ],
   "source": [
    "len(data_val_label)"
   ]
  },
  {
   "cell_type": "code",
   "execution_count": 8,
   "metadata": {},
   "outputs": [],
   "source": [
    "\"\"\"\n",
    "Tokenize data\n",
    "\"\"\"\n",
    "def tokenize_ngrams(sent):\n",
    "    #tokens = ngrams(re.findall(r\"[\\w']+|[.,!?;():~@+-<>#]\", sent.lower()),n)\n",
    "    tokens = ngrams([gram for gram in re.findall(r\"[\\w']+|[.,!?;():~@+-<>#]*\", sent.lower())\n",
    "                     if (gram not in string.punctuation)], 1)\n",
    "    return [token[0] for token in tokens]\n",
    "\n",
    "def tokenize_dataset_ngrams(dataset):\n",
    "    all_tokens = []\n",
    "    token_dataset = []\n",
    "    for sample in dataset:\n",
    "        tokens = tokenize_ngrams(sample)\n",
    "        token_dataset.append(tokens)\n",
    "        all_tokens += tokens\n",
    "    return token_dataset, all_tokens\n",
    "    \n",
    "def convert_labels(dataset_label):\n",
    "    \"\"\"Convert labels from number\n",
    "       entails  --> 1\n",
    "       contradiction --> -1\n",
    "       neural --> 0\n",
    "    \"\"\"\n",
    "    labels = []\n",
    "    for l in dataset_label:\n",
    "        if l == 'entailment':\n",
    "            labels.append(2)\n",
    "        elif l == 'contradiction':\n",
    "            labels.append(0)\n",
    "        elif l == 'neutral':\n",
    "            labels.append(1)\n",
    "        elif l=='label':\n",
    "            labels.append('label')\n",
    "    return labels\n",
    "            "
   ]
  },
  {
   "cell_type": "code",
   "execution_count": 9,
   "metadata": {},
   "outputs": [],
   "source": [
    "data_val_s1_tokens, _ = tokenize_dataset_ngrams(data_val_s1)\n",
    "data_val_s2_tokens, _ = tokenize_dataset_ngrams(data_val_s2)\n",
    "data_val_label0 = convert_labels(data_val_label)\n",
    "data_train_s1_tokens, all_train_s1_tokens = tokenize_dataset_ngrams(data_train_s1)\n",
    "data_train_s2_tokens, all_train_s2_tokens = tokenize_dataset_ngrams(data_train_s2)\n",
    "data_train_label0 = convert_labels(data_train_label)"
   ]
  },
  {
   "cell_type": "code",
   "execution_count": 10,
   "metadata": {},
   "outputs": [
    {
     "name": "stdout",
     "output_type": "stream",
     "text": [
      "Total number of all tokens in train dataset is 2037612\n"
     ]
    }
   ],
   "source": [
    "all_train_tokens = all_train_s1_tokens + all_train_s2_tokens\n",
    "print(\"Total number of all tokens in train dataset is {}\".format(len(all_train_tokens)))"
   ]
  },
  {
   "cell_type": "code",
   "execution_count": 11,
   "metadata": {},
   "outputs": [
    {
     "name": "stdout",
     "output_type": "stream",
     "text": [
      "1000\n"
     ]
    }
   ],
   "source": [
    "print(len(data_val_label0))"
   ]
  },
  {
   "cell_type": "code",
   "execution_count": 12,
   "metadata": {},
   "outputs": [],
   "source": [
    "data_val_tokens = list(zip(data_val_s1_tokens, data_val_s2_tokens, data_val_label0))\n",
    "data_train_tokens = list(zip(data_train_s1_tokens, data_train_s2_tokens, data_train_label0))\n",
    "pkl.dump(data_val_tokens, open(\"data_val_tokens.p\", \"wb\"))\n",
    "pkl.dump(data_train_tokens, open(\"data_train_tokens.p\", \"wb\"))"
   ]
  },
  {
   "cell_type": "code",
   "execution_count": 13,
   "metadata": {},
   "outputs": [],
   "source": [
    "pkl.dump(all_train_tokens, open(\"all_train_tokens.p\", \"wb\"))"
   ]
  },
  {
   "cell_type": "code",
   "execution_count": 14,
   "metadata": {},
   "outputs": [
    {
     "name": "stdout",
     "output_type": "stream",
     "text": [
      "all_train_tokens.p   hw2_rnn_1-Copy1.ipynb  pre_emb_matrix\r\n",
      "data_train_tokens.p  hw2_rnn_1.ipynb\t    result\r\n",
      "data_val_tokens.p    hw2_rnn_2.ipynb\t    snli_train.tsv\r\n",
      "hw2_cnn-Copy1.ipynb  mnli_train.tsv\t    snli_val.tsv\r\n",
      "hw2_cnn.ipynb\t     mnli_val.tsv\t    wiki-news-300d-1M.vec\r\n"
     ]
    }
   ],
   "source": [
    "!ls"
   ]
  },
  {
   "cell_type": "code",
   "execution_count": 15,
   "metadata": {},
   "outputs": [],
   "source": [
    "\"\"\"Build Vocabulary\"\"\"\n",
    "from collections import Counter\n",
    "\n",
    "max_vocab_size = 20000\n",
    "# save index 0 for unk and 1 for pad\n",
    "PAD_IDX = 0\n",
    "UNK_IDX = 1\n",
    "\n",
    "def build_vocab(all_tokens):\n",
    "    # Returns:\n",
    "    # id2token: list of tokens, where id2token[i] returns token that corresponds to token i\n",
    "    # token2id: dictionary where keys represent tokens and corresponding values represent indices\n",
    "    token_counter = Counter(all_tokens)\n",
    "    vocab, count = zip(*token_counter.most_common(max_vocab_size-2))\n",
    "    id2token = list(vocab)\n",
    "    token2id = dict(zip(vocab, range(2,2+len(vocab)))) \n",
    "    id2token = ['<pad>', '<unk>'] + id2token\n",
    "    token2id['<pad>'] = PAD_IDX \n",
    "    token2id['<unk>'] = UNK_IDX\n",
    "    return token2id, id2token\n",
    "\n",
    "token2id, id2token = build_vocab(all_train_tokens)"
   ]
  },
  {
   "cell_type": "code",
   "execution_count": 16,
   "metadata": {},
   "outputs": [],
   "source": [
    "if len(token2id)< max_vocab_size:\n",
    "    max_vocab_size = len(token2id)"
   ]
  },
  {
   "cell_type": "code",
   "execution_count": 17,
   "metadata": {},
   "outputs": [
    {
     "name": "stdout",
     "output_type": "stream",
     "text": [
      "19581\n"
     ]
    }
   ],
   "source": [
    "print(len(token2id))"
   ]
  },
  {
   "cell_type": "code",
   "execution_count": 18,
   "metadata": {},
   "outputs": [
    {
     "name": "stdout",
     "output_type": "stream",
     "text": [
      "Embedding_matrix shape is (200000, 300)\n",
      "Embedding Vocabualry size is 200000\n"
     ]
    }
   ],
   "source": [
    "\"\"\"Load pretrained embedding matrix\"\"\"\n",
    "\n",
    "words_to_load = 200000\n",
    "\n",
    "with open('wiki-news-300d-1M.vec', 'r', encoding = 'utf-8') as f:\n",
    "    embedding_matrix = np.zeros([words_to_load, 300])\n",
    "    word2id_emb = {}\n",
    "    id2word_emb = []\n",
    "    next(f)\n",
    "    for i, line in enumerate(f):\n",
    "        if i >= words_to_load: \n",
    "            break\n",
    "        s = line.split()\n",
    "        id2word_emb.append(s[0])\n",
    "        word2id_emb[s[0]] = 0\n",
    "        embedding_matrix[i] = np.asarray(s[1:])\n",
    "\n",
    "print(\"Embedding_matrix shape is {}\".format(embedding_matrix.shape))\n",
    "print(\"Embedding Vocabualry size is {}\".format(len(id2word_emb)))"
   ]
  },
  {
   "cell_type": "code",
   "execution_count": 19,
   "metadata": {},
   "outputs": [
    {
     "name": "stdout",
     "output_type": "stream",
     "text": [
      "0.8282008069046525 tokens appear in the pretrained dataset\n"
     ]
    }
   ],
   "source": [
    "\"\"\"Build pretrained Embedding Matrix\"\"\"\n",
    "pre_emb_matrix = np.zeros([max_vocab_size, 300])\n",
    "\n",
    "i = 0\n",
    "for word in id2token:\n",
    "    try:\n",
    "        id_pretrain = word2id_emb[word]\n",
    "        pre_emb_matrix[token2id[word]] = embedding_matrix[id_pretrain]\n",
    "    except KeyError:\n",
    "        pre_emb_matrix[token2id[word]] = np.zeros(300)\n",
    "        i = i+1\n",
    "print(\"{} tokens appear in the pretrained dataset\".format(1-i/max_vocab_size))"
   ]
  },
  {
   "cell_type": "code",
   "execution_count": 20,
   "metadata": {},
   "outputs": [
    {
     "data": {
      "text/plain": [
       "(19581, 300)"
      ]
     },
     "execution_count": 20,
     "metadata": {},
     "output_type": "execute_result"
    }
   ],
   "source": [
    "pre_emb_matrix.shape"
   ]
  },
  {
   "cell_type": "code",
   "execution_count": 21,
   "metadata": {},
   "outputs": [],
   "source": [
    "pkl.dump(token2id, open(\"token2id.p\", \"wb\"))\n",
    "pkl.dump(id2token, open(\"id2token.p\", \"wb\"))\n",
    "pkl.dump(pre_emb_matrix, open(\"pre_emb_matrix\", \"wb\"))"
   ]
  },
  {
   "cell_type": "code",
   "execution_count": 22,
   "metadata": {},
   "outputs": [],
   "source": [
    "# convert token to id in the dataset\n",
    "def token2index_dataset(tokens_data, token2id):\n",
    "    indices_data = []\n",
    "    for tokens in tokens_data:\n",
    "        index_list = [token2id[token] if token in token2id else UNK_IDX for token in tokens]\n",
    "        indices_data.append(index_list)\n",
    "    return indices_data"
   ]
  },
  {
   "cell_type": "code",
   "execution_count": 23,
   "metadata": {},
   "outputs": [],
   "source": [
    "data_val_s1_indices = token2index_dataset(data_val_s1_tokens, token2id)\n",
    "data_val_s2_indices = token2index_dataset(data_val_s2_tokens, token2id)\n",
    "data_train_s1_indices = token2index_dataset(data_train_s1_tokens, token2id)\n",
    "data_train_s2_indices = token2index_dataset(data_train_s2_tokens, token2id)"
   ]
  },
  {
   "cell_type": "code",
   "execution_count": 24,
   "metadata": {},
   "outputs": [
    {
     "data": {
      "text/plain": [
       "(1000, 100000, 100000)"
      ]
     },
     "execution_count": 24,
     "metadata": {},
     "output_type": "execute_result"
    }
   ],
   "source": [
    "len(data_val_s1_indices), len(data_train_s2_indices), len(data_train_label0)"
   ]
  },
  {
   "cell_type": "markdown",
   "metadata": {},
   "source": [
    "Create Dataset"
   ]
  },
  {
   "cell_type": "code",
   "execution_count": 25,
   "metadata": {},
   "outputs": [],
   "source": [
    "from torch.utils.data import Dataset"
   ]
  },
  {
   "cell_type": "code",
   "execution_count": 26,
   "metadata": {},
   "outputs": [],
   "source": [
    "class SNLIDataset(Dataset):\n",
    "    \"\"\"\n",
    "    Class that represents a train/validation/test dataset that's readable for PyTorch\n",
    "    Note that this class inherits torch.utils.data.Dataset\n",
    "    \"\"\"\n",
    "\n",
    "    def __init__(self, data_list_s1, data_list_s2, data_label_list):\n",
    "        \"\"\"\n",
    "        @param data_list: list of character\n",
    "        @param target_list: list of targets\n",
    "\n",
    "        \"\"\"\n",
    "        self.s1_list, self.s2_list, self.label_list = data_list_s1, data_list_s2, data_label_list\n",
    "        assert ((len(self.s1_list) == len(self.label_list)) and (len(self.s1_list) == len(self.s2_list)))\n",
    "\n",
    "    def __len__(self):\n",
    "        return len(self.label_list)\n",
    "\n",
    "    def __getitem__(self, key):\n",
    "        \"\"\"\n",
    "        Triggered when you call dataset[i]\n",
    "        \"\"\"\n",
    "        return [self.s1_list[key], self.s2_list[key], max(len(self.s1_list[key]), len(self.s2_list[key])), self.label_list[key]]\n",
    "\n",
    "def vocab_collate_func(batch):\n",
    "    \"\"\"\n",
    "    Customized function for DataLoader that dynamically pads the batch so that all\n",
    "    data have the same length\n",
    "    \"\"\"\n",
    "    s1_list = []\n",
    "    s2_list = []\n",
    "    label_list = []\n",
    "    length_list = []\n",
    "\n",
    "    for datum in batch:\n",
    "        label_list.append(datum[3])\n",
    "        length_list.append(datum[2])\n",
    "    # padding\n",
    "    #MAX_WORD_LENGTH\n",
    "    max_length = max(length_list)\n",
    "    for datum in batch:\n",
    "        padded_vec_s1 = np.pad(np.array(datum[0]),\n",
    "                                pad_width=((0,max_length-len(datum[0]))),\n",
    "                                mode=\"constant\", constant_values=0)\n",
    "        padded_vec_s2 = np.pad(np.array(datum[1]),\n",
    "                                pad_width=((0,max_length-len(datum[1]))),\n",
    "                                mode=\"constant\", constant_values=0)\n",
    "        s1_list.append(padded_vec_s1)\n",
    "        s2_list.append(padded_vec_s2)\n",
    "    ind_dec_order = np.argsort(length_list)[::-1]\n",
    "    s1_list = np.array(s1_list)[ind_dec_order]\n",
    "    s2_list = np.array(s2_list)[ind_dec_order]\n",
    "    length_list = np.array(length_list)[ind_dec_order]\n",
    "    label_list = np.array(label_list)[ind_dec_order]\n",
    "    return [torch.from_numpy(np.array(s1_list)), torch.from_numpy(np.array(s2_list)), torch.LongTensor(length_list), torch.LongTensor(label_list)]\n",
    "\n"
   ]
  },
  {
   "cell_type": "code",
   "execution_count": 27,
   "metadata": {},
   "outputs": [],
   "source": [
    "import torch\n",
    "import torch.nn as nn\n",
    "import torch.nn.functional as F\n",
    "from torch.utils.data import Dataset\n",
    "\n",
    "BATCH_SIZE = 32"
   ]
  },
  {
   "cell_type": "code",
   "execution_count": 28,
   "metadata": {},
   "outputs": [],
   "source": [
    "train_dataset = SNLIDataset(data_train_s1_indices, data_train_s2_indices, data_train_label0)\n",
    "train_loader = torch.utils.data.DataLoader(dataset=train_dataset,\n",
    "                                           batch_size=BATCH_SIZE,\n",
    "                                           collate_fn=vocab_collate_func,\n",
    "                                           shuffle=True)\n",
    "\n",
    "val_dataset = SNLIDataset(data_val_s1_indices, data_val_s2_indices, data_val_label0)\n",
    "val_loader = torch.utils.data.DataLoader(dataset=val_dataset,\n",
    "                                           batch_size=BATCH_SIZE,\n",
    "                                           collate_fn=vocab_collate_func,\n",
    "                                           shuffle=True)"
   ]
  },
  {
   "cell_type": "code",
   "execution_count": 155,
   "metadata": {},
   "outputs": [
    {
     "name": "stdout",
     "output_type": "stream",
     "text": [
      "length of s1 32\n",
      "length of s2 32\n",
      "tensor([0, 1, 2, 1, 0, 0, 0, 1, 1, 1, 2, 0, 2, 1, 0, 0, 0, 0, 2, 0, 1, 1, 2, 2,\n",
      "        2, 2, 1, 0, 2, 0, 2, 0])\n",
      "length of s1 32\n",
      "length of s2 32\n",
      "tensor([1, 0, 1, 1, 0, 0, 0, 0, 1, 2, 0, 2, 2, 2, 1, 2, 1, 2, 1, 0, 1, 2, 2, 0,\n",
      "        2, 1, 2, 2, 0, 0, 0, 0])\n",
      "length of s1 32\n",
      "length of s2 32\n",
      "tensor([2, 1, 0, 2, 0, 0, 1, 1, 2, 1, 1, 1, 1, 1, 1, 2, 0, 1, 0, 0, 0, 1, 0, 1,\n",
      "        0, 2, 2, 1, 2, 0, 0, 0])\n",
      "length of s1 32\n",
      "length of s2 32\n",
      "tensor([2, 2, 2, 0, 1, 0, 1, 2, 2, 0, 0, 0, 0, 0, 2, 0, 2, 1, 0, 2, 2, 1, 0, 2,\n",
      "        1, 0, 0, 0, 0, 2, 2, 1])\n"
     ]
    }
   ],
   "source": [
    "n = 0\n",
    "for s1, s2, length, label in train_loader:\n",
    "    print('length of s1', len(s1))\n",
    "    print('length of s2', len(s2))\n",
    "    print(label)\n",
    "    n = 1+n\n",
    "    if n>3:\n",
    "        break"
   ]
  },
  {
   "cell_type": "code",
   "execution_count": 62,
   "metadata": {},
   "outputs": [
    {
     "data": {
      "text/plain": [
       "[[2, 21, 23, 4, 2, 101, 20, 30, 7, 2, 720, 1934, 2, 351, 10, 50],\n",
       " [2, 21, 23, 114, 3, 807, 78, 3, 50],\n",
       " 16,\n",
       " 0]"
      ]
     },
     "execution_count": 62,
     "metadata": {},
     "output_type": "execute_result"
    }
   ],
   "source": [
    "train_dataset[0]"
   ]
  },
  {
   "cell_type": "code",
   "execution_count": 63,
   "metadata": {},
   "outputs": [
    {
     "data": {
      "text/plain": [
       "100000"
      ]
     },
     "execution_count": 63,
     "metadata": {},
     "output_type": "execute_result"
    }
   ],
   "source": [
    "len(train_dataset)"
   ]
  },
  {
   "cell_type": "markdown",
   "metadata": {},
   "source": [
    "Build RNN model\n",
    "\n",
    "bi-directional GRU"
   ]
  },
  {
   "cell_type": "code",
   "execution_count": 64,
   "metadata": {
    "collapsed": true
   },
   "outputs": [],
   "source": [
    "rnn = nn.RNN(10, 20,2)\n",
    "input = torch.randn(5,3,10)\n",
    "h0 = torch.randn(2,3,20)"
   ]
  },
  {
   "cell_type": "code",
   "execution_count": 68,
   "metadata": {},
   "outputs": [
    {
     "data": {
      "text/plain": [
       "tensor([[-0.2706,  0.0511, -0.2846,  1.3676,  0.0936,  0.8250, -1.6942,  0.0878,\n",
       "         -4.1304, -1.5029],\n",
       "        [ 0.4704, -0.9433, -0.0144, -0.3048, -0.1974,  1.0391,  1.0443,  1.4158,\n",
       "          2.2376, -2.0218],\n",
       "        [-1.4847, -0.1551,  1.5994,  0.0388,  0.7863, -0.0203, -0.1791, -0.4830,\n",
       "         -0.7885,  1.0997],\n",
       "        [ 1.6072,  0.6304,  0.4567,  0.8326,  0.2975,  1.0990,  0.4029,  0.6755,\n",
       "         -0.2011, -0.8112],\n",
       "        [-0.6082, -0.5086, -0.0764,  0.6497, -0.4813, -0.2656, -0.3421,  0.1383,\n",
       "          1.7226, -0.1734]])"
      ]
     },
     "execution_count": 68,
     "metadata": {},
     "output_type": "execute_result"
    }
   ],
   "source": [
    "input[:,0,:]"
   ]
  },
  {
   "cell_type": "code",
   "execution_count": 70,
   "metadata": {},
   "outputs": [
    {
     "data": {
      "text/plain": [
       "(torch.Size([5, 3, 20]), torch.Size([2, 3, 20]))"
      ]
     },
     "execution_count": 70,
     "metadata": {},
     "output_type": "execute_result"
    }
   ],
   "source": [
    "output, h1 = rnn(input, h0)\n",
    "output.shape, h1.shape"
   ]
  },
  {
   "cell_type": "code",
   "execution_count": 72,
   "metadata": {},
   "outputs": [
    {
     "data": {
      "text/plain": [
       "torch.Size([3, 20])"
      ]
     },
     "execution_count": 72,
     "metadata": {},
     "output_type": "execute_result"
    }
   ],
   "source": [
    "torch.sum(output, dim = 0).shape"
   ]
  },
  {
   "cell_type": "code",
   "execution_count": 78,
   "metadata": {},
   "outputs": [
    {
     "data": {
      "text/plain": [
       "torch.Size([5, 3, 30])"
      ]
     },
     "execution_count": 78,
     "metadata": {},
     "output_type": "execute_result"
    }
   ],
   "source": [
    "torch.cat((input, output), dim =-1).shape"
   ]
  },
  {
   "cell_type": "code",
   "execution_count": 54,
   "metadata": {},
   "outputs": [],
   "source": [
    "\n"
   ]
  },
  {
   "cell_type": "code",
   "execution_count": 29,
   "metadata": {},
   "outputs": [],
   "source": [
    "class GRU(nn.Module):\n",
    "    def __init__(self, emb_size, hidden_size, num_layers, num_classes, vocab_size, pretrained_weight):\n",
    "        \"\"\"\n",
    "        GRU accepts the following hyperparams:\n",
    "        input_size - The number of expected features of in the input x\n",
    "        hidden_size - The number of features in the hidden state h\n",
    "        num_layers - Here we use the Default:1\n",
    "        bias - True\n",
    "        batch_first - The input and output tensors are provided as (batch, seq, feature)\n",
    "        bidirectional - \n",
    "        ===================================================================================\n",
    "        Note: padding_idx = 0\n",
    "        \"\"\"\n",
    "        super(GRU, self).__init__()\n",
    "        \n",
    "        layer_size2 = 20\n",
    "        #layer_size2 = 200\n",
    "        \n",
    "        self.num_layers, self.hidden_size = num_layers, hidden_size\n",
    "        self.embedding = nn.Embedding(vocab_size, emb_size, padding_idx = 0)\n",
    "        self.embedding.weight.data.copy_(torch.from_numpy(pretrained_weight))\n",
    "        self.gru = nn.GRU(emb_size, hidden_size, num_layers, batch_first=True, bidirectional = True) # The first dimension is the batch dimension\n",
    "        self.linear1 = nn.Linear(4*hidden_size, layer_size2)\n",
    "        self.linear2 = nn.Linear(layer_size2, num_classes)\n",
    "\n",
    "    def init_hidden(self, batch_size):\n",
    "        # Function initializes the activation of recurrent neural net at timestep 0\n",
    "        # Needs to be in format (num_layers, batch_size, hidden_size)\n",
    "        hidden = torch.randn(2*self.num_layers, batch_size, self.hidden_size)\n",
    "\n",
    "        return hidden.to(device)\n",
    "\n",
    "    def forward(self, s1, s2, lengths):\n",
    "        # reset hidden state\n",
    "        batch_size, seq_len = s1.size()\n",
    "\n",
    "        self.hidden_s1 = self.init_hidden(batch_size)\n",
    "        self.hidden_s2 = self.init_hidden(batch_size)\n",
    "        \n",
    "        embed_s1 = self.embedding(s1)\n",
    "        embed_s2 = self.embedding(s2)\n",
    "    \n",
    "        rnn_out_s1, self.hidden_s1 = self.gru(embed_s1, self.hidden_s1)\n",
    "        rnn_out_s2, self.hidden_s2 = self.gru(embed_s2, self.hidden_s2)\n",
    "        \n",
    "        rnn_out_s1 = torch.sum(rnn_out_s1, dim=1)\n",
    "        rnn_out_s2 = torch.sum(rnn_out_s2, dim=1)\n",
    "        \n",
    "        rnn_out = torch.cat((rnn_out_s1, rnn_out_s2),-1)\n",
    "        \n",
    "        rnn_out = self.linear1(rnn_out)\n",
    "        rnn_out = F.relu(rnn_out)\n",
    "        logits = self.linear2(rnn_out)\n",
    "        \n",
    "        return logits\n",
    "\n"
   ]
  },
  {
   "cell_type": "code",
   "execution_count": 30,
   "metadata": {},
   "outputs": [],
   "source": [
    "def test_model(loader, model):\n",
    "    \"\"\"\n",
    "    Help function that tests the model's performance on a dataset\n",
    "    @param: loader - data loader for the dataset to test against\n",
    "    \"\"\"\n",
    "    correct = 0\n",
    "    total = 0\n",
    "    model.eval()\n",
    "    for s1, s2, lengths, labels in loader:\n",
    "        s1_batch, s2_batch, lengths_batch, label_batch = s1.to(device), s2.to(device), lengths.to(device), labels.to(device)\n",
    "        outputs = F.softmax(model(s1_batch, s2_batch, lengths_batch), dim=1)\n",
    "        predicted = outputs.max(1, keepdim=True)[1]\n",
    "\n",
    "        total += label_batch.size(0)\n",
    "        correct += predicted.eq(label_batch.view_as(predicted)).sum().item()\n",
    "    return (100 * correct / total)\n",
    "\n"
   ]
  },
  {
   "cell_type": "code",
   "execution_count": 31,
   "metadata": {},
   "outputs": [],
   "source": [
    "def test_model2(loader, model):\n",
    "    \"\"\"\n",
    "    Help function that tests the model's performance on a dataset\n",
    "    @param: loader - data loader for the dataset to test against\n",
    "    \"\"\"\n",
    "    correct = 0\n",
    "    total = 0\n",
    "    total_loss = 0\n",
    "    criterion_test = nn.CrossEntropyLoss()\n",
    "    \n",
    "    model.eval()\n",
    "    for s1, s2, lengths, labels in loader:\n",
    "        s1_batch, s2_batch, lengths_batch, label_batch = s1.to(device), s2.to(device), lengths.to(device), labels.to(device)\n",
    "        probability = model(s1_batch, s2_batch, lengths_batch)\n",
    "        loss_test = float(criterion_test(probability, label_batch))\n",
    "        total_loss += loss_test\n",
    "        outputs = F.softmax(probability, dim=1)\n",
    "        predicted = outputs.max(1, keepdim=True)[1]\n",
    "\n",
    "        total += label_batch.size(0)\n",
    "        correct += predicted.eq(label_batch.view_as(predicted)).sum().item()\n",
    "    return (100 * correct / total), total_loss/len(loader)"
   ]
  },
  {
   "cell_type": "code",
   "execution_count": 32,
   "metadata": {},
   "outputs": [
    {
     "ename": "NameError",
     "evalue": "name 'model' is not defined",
     "output_type": "error",
     "traceback": [
      "\u001b[0;31m---------------------------------------------------------------------------\u001b[0m",
      "\u001b[0;31mNameError\u001b[0m                                 Traceback (most recent call last)",
      "\u001b[0;32m<ipython-input-32-8ae49d6eca62>\u001b[0m in \u001b[0;36m<module>\u001b[0;34m\u001b[0m\n\u001b[0;32m----> 1\u001b[0;31m \u001b[0macc0\u001b[0m \u001b[0;34m=\u001b[0m \u001b[0mtest_model\u001b[0m\u001b[0;34m(\u001b[0m\u001b[0mval_loader\u001b[0m\u001b[0;34m,\u001b[0m \u001b[0mmodel\u001b[0m\u001b[0;34m)\u001b[0m\u001b[0;34m\u001b[0m\u001b[0m\n\u001b[0m\u001b[1;32m      2\u001b[0m \u001b[0macc0\u001b[0m\u001b[0;34m\u001b[0m\u001b[0m\n",
      "\u001b[0;31mNameError\u001b[0m: name 'model' is not defined"
     ]
    }
   ],
   "source": [
    "acc0 = test_model(val_loader, model)\n",
    "acc0"
   ]
  },
  {
   "cell_type": "code",
   "execution_count": null,
   "metadata": {},
   "outputs": [],
   "source": [
    "acc1, loss1 = test_model2(val_loader, model)"
   ]
  },
  {
   "cell_type": "code",
   "execution_count": null,
   "metadata": {},
   "outputs": [],
   "source": [
    "acc1"
   ]
  },
  {
   "cell_type": "code",
   "execution_count": null,
   "metadata": {},
   "outputs": [],
   "source": [
    "loss1"
   ]
  },
  {
   "cell_type": "code",
   "execution_count": null,
   "metadata": {},
   "outputs": [],
   "source": [
    "type(pre_emb_matrix)"
   ]
  },
  {
   "cell_type": "code",
   "execution_count": 128,
   "metadata": {},
   "outputs": [
    {
     "data": {
      "text/plain": [
       "(19581, (19581, 300))"
      ]
     },
     "execution_count": 128,
     "metadata": {},
     "output_type": "execute_result"
    }
   ],
   "source": [
    "len(id2token), pre_emb_matrix.shape"
   ]
  },
  {
   "cell_type": "code",
   "execution_count": 44,
   "metadata": {},
   "outputs": [
    {
     "data": {
      "text/plain": [
       "('result/rnn_hs800.p', 'result/rnn_acc_hs800.pdf', 'result/model_rnn_hs800.pt')"
      ]
     },
     "execution_count": 44,
     "metadata": {},
     "output_type": "execute_result"
    }
   ],
   "source": [
    "HIDDEN_SIZE = 800\n",
    "result_FILE = 'result/rnn_hs'+str(HIDDEN_SIZE) +'.p'\n",
    "figname = 'result/rnn_acc_hs'+str(HIDDEN_SIZE)  +'.pdf'\n",
    "model_name = 'result/model_rnn_hs'+str(HIDDEN_SIZE) +'.pt'\n",
    "result_FILE, figname, model_name"
   ]
  },
  {
   "cell_type": "code",
   "execution_count": 45,
   "metadata": {},
   "outputs": [],
   "source": [
    "model = GRU(emb_size=300, hidden_size=HIDDEN_SIZE, num_layers=1, num_classes=3, \n",
    "            vocab_size=len(id2token), pretrained_weight = pre_emb_matrix).to(device)"
   ]
  },
  {
   "cell_type": "code",
   "execution_count": 46,
   "metadata": {},
   "outputs": [
    {
     "name": "stdout",
     "output_type": "stream",
     "text": [
      "11227983\n"
     ]
    }
   ],
   "source": [
    "model_parameters = filter(lambda p: p.requires_grad, model.parameters())\n",
    "params = sum([np.prod(p.size()) for p in model_parameters])\n",
    "print(params)"
   ]
  },
  {
   "cell_type": "code",
   "execution_count": 35,
   "metadata": {},
   "outputs": [],
   "source": [
    "device = torch.device('cuda:0' if torch.cuda.is_available() else 'cpu')"
   ]
  },
  {
   "cell_type": "code",
   "execution_count": 29,
   "metadata": {},
   "outputs": [],
   "source": [
    "result_FILE = 'result/rnn_hs100.p'"
   ]
  },
  {
   "cell_type": "code",
   "execution_count": 32,
   "metadata": {},
   "outputs": [],
   "source": [
    "best_val_acc = 0"
   ]
  },
  {
   "cell_type": "code",
   "execution_count": 35,
   "metadata": {},
   "outputs": [
    {
     "name": "stdout",
     "output_type": "stream",
     "text": [
      "Epoch: [1/10], Step: [301/3125], Val_Acc: 42.0\n",
      "Epoch: [1/10], Step: [601/3125], Val_Acc: 46.5\n",
      "Epoch: [1/10], Step: [901/3125], Val_Acc: 47.6\n",
      "Epoch: [1/10], Step: [1201/3125], Val_Acc: 51.6\n",
      "Epoch: [1/10], Step: [1501/3125], Val_Acc: 50.1\n",
      "Epoch: [1/10], Step: [1801/3125], Val_Acc: 50.1\n",
      "Epoch: [1/10], Step: [2101/3125], Val_Acc: 51.2\n",
      "Epoch: [1/10], Step: [2401/3125], Val_Acc: 51.2\n",
      "Epoch: [1/10], Step: [2701/3125], Val_Acc: 54.8\n",
      "Epoch: [1/10], Step: [3001/3125], Val_Acc: 55.7\n",
      "Epoch: [2/10], Step: [301/3125], Val_Acc: 57.8\n",
      "Epoch: [2/10], Step: [601/3125], Val_Acc: 60.4\n",
      "Epoch: [2/10], Step: [901/3125], Val_Acc: 61.3\n",
      "Epoch: [2/10], Step: [1201/3125], Val_Acc: 63.3\n",
      "Epoch: [2/10], Step: [1501/3125], Val_Acc: 61.2\n",
      "Epoch: [2/10], Step: [1801/3125], Val_Acc: 62.5\n",
      "Epoch: [2/10], Step: [2101/3125], Val_Acc: 62.8\n",
      "Epoch: [2/10], Step: [2401/3125], Val_Acc: 62.8\n",
      "Epoch: [2/10], Step: [2701/3125], Val_Acc: 63.2\n",
      "Epoch: [2/10], Step: [3001/3125], Val_Acc: 62.9\n",
      "Epoch: [3/10], Step: [301/3125], Val_Acc: 62.8\n",
      "Epoch: [3/10], Step: [601/3125], Val_Acc: 65.2\n",
      "Epoch: [3/10], Step: [901/3125], Val_Acc: 65.7\n",
      "Epoch: [3/10], Step: [1201/3125], Val_Acc: 64.9\n",
      "Epoch: [3/10], Step: [1501/3125], Val_Acc: 63.2\n",
      "Epoch: [3/10], Step: [1801/3125], Val_Acc: 63.9\n",
      "Epoch: [3/10], Step: [2101/3125], Val_Acc: 65.5\n",
      "Epoch: [3/10], Step: [2401/3125], Val_Acc: 64.3\n",
      "Epoch: [3/10], Step: [2701/3125], Val_Acc: 63.6\n",
      "Epoch: [3/10], Step: [3001/3125], Val_Acc: 65.3\n",
      "Epoch: [4/10], Step: [301/3125], Val_Acc: 65.3\n",
      "Epoch: [4/10], Step: [601/3125], Val_Acc: 67.4\n",
      "Epoch: [4/10], Step: [901/3125], Val_Acc: 66.4\n",
      "Epoch: [4/10], Step: [1201/3125], Val_Acc: 66.6\n",
      "Epoch: [4/10], Step: [1501/3125], Val_Acc: 66.6\n",
      "Epoch: [4/10], Step: [1801/3125], Val_Acc: 68.3\n",
      "Epoch: [4/10], Step: [2101/3125], Val_Acc: 66.4\n",
      "Epoch: [4/10], Step: [2401/3125], Val_Acc: 66.3\n",
      "Epoch: [4/10], Step: [2701/3125], Val_Acc: 66.0\n",
      "Epoch: [4/10], Step: [3001/3125], Val_Acc: 66.8\n",
      "Epoch: [5/10], Step: [301/3125], Val_Acc: 67.4\n",
      "Epoch: [5/10], Step: [601/3125], Val_Acc: 67.1\n",
      "Epoch: [5/10], Step: [901/3125], Val_Acc: 68.0\n",
      "Epoch: [5/10], Step: [1201/3125], Val_Acc: 67.0\n",
      "Epoch: [5/10], Step: [1501/3125], Val_Acc: 66.7\n",
      "Epoch: [5/10], Step: [1801/3125], Val_Acc: 67.2\n",
      "Epoch: [5/10], Step: [2101/3125], Val_Acc: 67.2\n",
      "Epoch: [5/10], Step: [2401/3125], Val_Acc: 68.3\n",
      "Epoch: [5/10], Step: [2701/3125], Val_Acc: 68.7\n",
      "Epoch: [5/10], Step: [3001/3125], Val_Acc: 66.9\n",
      "Epoch: [6/10], Step: [301/3125], Val_Acc: 65.8\n",
      "Epoch: [6/10], Step: [601/3125], Val_Acc: 68.1\n",
      "Epoch: [6/10], Step: [901/3125], Val_Acc: 66.1\n",
      "Epoch: [6/10], Step: [1201/3125], Val_Acc: 65.2\n",
      "Epoch: [6/10], Step: [1501/3125], Val_Acc: 67.5\n",
      "Epoch: [6/10], Step: [1801/3125], Val_Acc: 66.2\n",
      "Epoch: [6/10], Step: [2101/3125], Val_Acc: 66.8\n",
      "Epoch: [6/10], Step: [2401/3125], Val_Acc: 67.8\n",
      "Epoch: [6/10], Step: [2701/3125], Val_Acc: 67.0\n",
      "Epoch: [6/10], Step: [3001/3125], Val_Acc: 65.9\n",
      "Epoch: [7/10], Step: [301/3125], Val_Acc: 66.3\n",
      "Epoch: [7/10], Step: [601/3125], Val_Acc: 66.1\n",
      "Epoch: [7/10], Step: [901/3125], Val_Acc: 67.2\n",
      "Epoch: [7/10], Step: [1201/3125], Val_Acc: 65.4\n",
      "Epoch: [7/10], Step: [1501/3125], Val_Acc: 67.1\n",
      "Epoch: [7/10], Step: [1801/3125], Val_Acc: 66.8\n",
      "Epoch: [7/10], Step: [2101/3125], Val_Acc: 67.9\n",
      "Epoch: [7/10], Step: [2401/3125], Val_Acc: 67.5\n",
      "Epoch: [7/10], Step: [2701/3125], Val_Acc: 67.2\n",
      "Epoch: [7/10], Step: [3001/3125], Val_Acc: 66.1\n",
      "Epoch: [8/10], Step: [301/3125], Val_Acc: 67.9\n",
      "Epoch: [8/10], Step: [601/3125], Val_Acc: 67.5\n",
      "Epoch: [8/10], Step: [901/3125], Val_Acc: 66.4\n",
      "Epoch: [8/10], Step: [1201/3125], Val_Acc: 66.3\n",
      "Epoch: [8/10], Step: [1501/3125], Val_Acc: 66.6\n",
      "Epoch: [8/10], Step: [1801/3125], Val_Acc: 66.3\n",
      "Epoch: [8/10], Step: [2101/3125], Val_Acc: 65.6\n",
      "Epoch: [8/10], Step: [2401/3125], Val_Acc: 66.1\n",
      "Epoch: [8/10], Step: [2701/3125], Val_Acc: 66.3\n",
      "Epoch: [8/10], Step: [3001/3125], Val_Acc: 66.0\n",
      "Epoch: [9/10], Step: [301/3125], Val_Acc: 66.5\n",
      "Epoch: [9/10], Step: [601/3125], Val_Acc: 66.5\n",
      "Epoch: [9/10], Step: [901/3125], Val_Acc: 66.7\n",
      "Epoch: [9/10], Step: [1201/3125], Val_Acc: 66.2\n",
      "Epoch: [9/10], Step: [1501/3125], Val_Acc: 65.9\n",
      "Epoch: [9/10], Step: [1801/3125], Val_Acc: 65.6\n",
      "Epoch: [9/10], Step: [2101/3125], Val_Acc: 67.2\n",
      "Epoch: [9/10], Step: [2401/3125], Val_Acc: 66.1\n",
      "Epoch: [9/10], Step: [2701/3125], Val_Acc: 67.2\n",
      "Epoch: [9/10], Step: [3001/3125], Val_Acc: 65.9\n",
      "Epoch: [10/10], Step: [301/3125], Val_Acc: 65.2\n",
      "Epoch: [10/10], Step: [601/3125], Val_Acc: 65.3\n",
      "Epoch: [10/10], Step: [901/3125], Val_Acc: 65.9\n",
      "Epoch: [10/10], Step: [1201/3125], Val_Acc: 66.0\n",
      "Epoch: [10/10], Step: [1501/3125], Val_Acc: 67.5\n",
      "Epoch: [10/10], Step: [1801/3125], Val_Acc: 66.9\n",
      "Epoch: [10/10], Step: [2101/3125], Val_Acc: 65.4\n",
      "Epoch: [10/10], Step: [2401/3125], Val_Acc: 66.2\n",
      "Epoch: [10/10], Step: [2701/3125], Val_Acc: 66.2\n",
      "Epoch: [10/10], Step: [3001/3125], Val_Acc: 66.0\n"
     ]
    }
   ],
   "source": [
    "learning_rate = 3e-4\n",
    "num_epochs = 10 # number epoch to train\n",
    "\n",
    "val_acc_record = []\n",
    "#train_acc_record = []\n",
    "val_loss_record = []\n",
    "#train_loss_record = []\n",
    "step_record = []\n",
    "\n",
    "# Criterion and Optimizer\n",
    "criterion = torch.nn.CrossEntropyLoss()\n",
    "optimizer = torch.optim.Adam(model.parameters(), lr=learning_rate)\n",
    "\n",
    "# Train the model\n",
    "total_step = len(train_loader)\n",
    "\n",
    "for epoch in range(num_epochs):\n",
    "    for i, (s1, s2, lengths, labels) in enumerate(train_loader):\n",
    "        model.train()\n",
    "        optimizer.zero_grad()\n",
    "        # Forward pass\n",
    "        outputs = model(s1.to(device), s2.to(device), lengths.to(device))\n",
    "        loss = criterion(outputs, labels.to(device))\n",
    "\n",
    "        # Backward and optimize\n",
    "        loss.backward()\n",
    "        optimizer.step()\n",
    "        # validate every 100 iterations\n",
    "        if i > 0 and i % 300 == 0:\n",
    "            # validate\n",
    "            val_acc, val_loss = test_model2(val_loader, model)\n",
    "            val_acc_record.append(val_acc)\n",
    "            val_loss_record.append(val_loss)\n",
    "            #train_acc, train_loss = test_model2(train_loader, model)\n",
    "            #train_acc_record.append(train_acc)\n",
    "            #train_loss_record.append(train_loss)\n",
    "            step_record.append( i + epoch * total_step)\n",
    "            print('Epoch: [{}/{}], Step: [{}/{}], Val_Acc: {}'.format(\n",
    "                       epoch+1, num_epochs, i+1, len(train_loader), val_acc))\n",
    "            if val_acc > best_val_acc:\n",
    "                with open(model_name, 'wb') as f:\n",
    "                    torch.save(model, f)\n",
    "                    best_val_loss = val_loss\n",
    "\n",
    "#training_curve = zip(step_record, train_acc_record, train_loss_record, val_acc_record, val_loss_record)\n",
    "#pkl.dump(training_curve, open(result_FILE, \"wb\"))"
   ]
  },
  {
   "cell_type": "code",
   "execution_count": 28,
   "metadata": {},
   "outputs": [],
   "source": [
    "with open(model_name, 'rb') as f:\n",
    "    best_model = torch.load(f)"
   ]
  },
  {
   "cell_type": "code",
   "execution_count": 37,
   "metadata": {},
   "outputs": [],
   "source": [
    "val_loader0 = torch.utils.data.DataLoader(dataset=val_dataset,\n",
    "                                           batch_size=1,\n",
    "                                           collate_fn=vocab_collate_func,\n",
    "                                           shuffle=False)"
   ]
  },
  {
   "cell_type": "code",
   "execution_count": 39,
   "metadata": {},
   "outputs": [
    {
     "name": "stdout",
     "output_type": "stream",
     "text": [
      "0  True label:  0   Predicted label:  2\n",
      "1  True label:  2   Predicted label:  2\n",
      "2  True label:  2   Predicted label:  2\n",
      "3  True label:  2   Predicted label:  2\n",
      "4  True label:  2   Predicted label:  2\n",
      "5  True label:  2   Predicted label:  0\n",
      "6  True label:  2   Predicted label:  2\n",
      "7  True label:  0   Predicted label:  1\n",
      "8  True label:  1   Predicted label:  1\n",
      "9  True label:  0   Predicted label:  0\n",
      "10  True label:  2   Predicted label:  2\n"
     ]
    },
    {
     "name": "stderr",
     "output_type": "stream",
     "text": [
      "/home/ml5893/pyenv/py3.6.3/lib/python3.6/site-packages/ipykernel_launcher.py:43: UserWarning: RNN module weights are not part of single contiguous chunk of memory. This means they need to be compacted at every call, possibly greatly increasing memory usage. To compact weights again call flatten_parameters().\n",
      "/home/ml5893/pyenv/py3.6.3/lib/python3.6/site-packages/ipykernel_launcher.py:44: UserWarning: RNN module weights are not part of single contiguous chunk of memory. This means they need to be compacted at every call, possibly greatly increasing memory usage. To compact weights again call flatten_parameters().\n"
     ]
    }
   ],
   "source": [
    "n = 0\n",
    "\n",
    "for s1, s2, lengths, labels in val_loader0:\n",
    "    s1_batch, s2_batch, lengths_batch, label_batch = s1.to(device), s2.to(device), lengths.to(device), labels.to(device)\n",
    "    outputs = F.softmax(best_model(s1_batch, s2_batch, lengths_batch), dim=1)\n",
    "    predicted = outputs.max(1, keepdim=True)[1]\n",
    "    print(n, \" True label: \", labels.data.numpy()[0], \"  Predicted label: \", (predicted.data).to('cpu').numpy()[0][0])\n",
    "    n = n+1\n",
    "    if n>10:\n",
    "        break"
   ]
  },
  {
   "cell_type": "markdown",
   "metadata": {},
   "source": [
    "Incorrect Exmaples"
   ]
  },
  {
   "cell_type": "code",
   "execution_count": 46,
   "metadata": {},
   "outputs": [
    {
     "data": {
      "text/plain": [
       "('Three women on a stage , one wearing red shoes , black pants , and a gray shirt is sitting on a prop , another is sitting on the floor , and the third wearing a black shirt and pants is standing , as a gentleman in the back tunes an instrument .',\n",
       " 'There are two women standing on the stage',\n",
       " 'contradiction',\n",
       " 'False Prediction: Entailment')"
      ]
     },
     "execution_count": 46,
     "metadata": {},
     "output_type": "execute_result"
    }
   ],
   "source": [
    "data_val_s1[0], data_val_s2[0], data_val_label[0], 'False Prediction: Entailment'"
   ]
  },
  {
   "cell_type": "code",
   "execution_count": 47,
   "metadata": {},
   "outputs": [
    {
     "data": {
      "text/plain": [
       "('Two people are in a green forest .',\n",
       " 'The forest is not dead .',\n",
       " 'entailment',\n",
       " 'False Prediciton: Contradiction')"
      ]
     },
     "execution_count": 47,
     "metadata": {},
     "output_type": "execute_result"
    }
   ],
   "source": [
    "data_val_s1[5], data_val_s2[5], data_val_label[5], 'False Prediciton: Contradiction'"
   ]
  },
  {
   "cell_type": "code",
   "execution_count": 48,
   "metadata": {},
   "outputs": [
    {
     "data": {
      "text/plain": [
       "('Two women , one walking her dog the other pushing a stroller .',\n",
       " 'There is a snowstorm .',\n",
       " 'contradiction',\n",
       " 'False Prediciton: Neutral')"
      ]
     },
     "execution_count": 48,
     "metadata": {},
     "output_type": "execute_result"
    }
   ],
   "source": [
    "data_val_s1[7], data_val_s2[7], data_val_label[7], 'False Prediciton: Neutral'"
   ]
  },
  {
   "cell_type": "markdown",
   "metadata": {},
   "source": [
    "Correct Prediction"
   ]
  },
  {
   "cell_type": "code",
   "execution_count": 43,
   "metadata": {},
   "outputs": [
    {
     "data": {
      "text/plain": [
       "('Four people sit on a subway two read books , one looks at a cellphone and is wearing knee high boots .',\n",
       " 'Multiple people are on a subway together , with each of them doing their own thing .',\n",
       " 'entailment')"
      ]
     },
     "execution_count": 43,
     "metadata": {},
     "output_type": "execute_result"
    }
   ],
   "source": [
    "data_val_s1[1], data_val_s2[1], data_val_label[1]"
   ]
  },
  {
   "cell_type": "code",
   "execution_count": 44,
   "metadata": {},
   "outputs": [
    {
     "data": {
      "text/plain": [
       "('A group of numbered participants walk down the street together .',\n",
       " 'Participants wait for the beginning of the walkathon .',\n",
       " 'neutral')"
      ]
     },
     "execution_count": 44,
     "metadata": {},
     "output_type": "execute_result"
    }
   ],
   "source": [
    "data_val_s1[8], data_val_s2[8], data_val_label[8]"
   ]
  },
  {
   "cell_type": "code",
   "execution_count": 45,
   "metadata": {},
   "outputs": [
    {
     "data": {
      "text/plain": [
       "('Three people and a white dog are sitting in the sand on a beach .',\n",
       " 'Three dogs and a person are sitting in the snow .',\n",
       " 'contradiction')"
      ]
     },
     "execution_count": 45,
     "metadata": {},
     "output_type": "execute_result"
    }
   ],
   "source": [
    "data_val_s1[9], data_val_s2[9], data_val_label[9]"
   ]
  },
  {
   "cell_type": "markdown",
   "metadata": {},
   "source": [
    "Evaluating on MultiMLI"
   ]
  },
  {
   "cell_type": "code",
   "execution_count": 29,
   "metadata": {},
   "outputs": [],
   "source": [
    "data_test = []\n",
    "with open('mnli_val.tsv','r', encoding = 'utf-8', newline = '') as file:\n",
    "    tsvreader = csv.reader(file, delimiter='\\t')\n",
    "    data_test = [line for line in tsvreader]"
   ]
  },
  {
   "cell_type": "code",
   "execution_count": 30,
   "metadata": {},
   "outputs": [
    {
     "data": {
      "text/plain": [
       "5001"
      ]
     },
     "execution_count": 30,
     "metadata": {},
     "output_type": "execute_result"
    }
   ],
   "source": [
    "len(data_test)"
   ]
  },
  {
   "cell_type": "code",
   "execution_count": 31,
   "metadata": {},
   "outputs": [
    {
     "data": {
      "text/plain": [
       "['sentence1', 'sentence2', 'label', 'genre']"
      ]
     },
     "execution_count": 31,
     "metadata": {},
     "output_type": "execute_result"
    }
   ],
   "source": [
    "data_test_head = data_test[0]\n",
    "data_test_head"
   ]
  },
  {
   "cell_type": "code",
   "execution_count": 32,
   "metadata": {},
   "outputs": [
    {
     "data": {
      "text/plain": [
       "5000"
      ]
     },
     "execution_count": 32,
     "metadata": {},
     "output_type": "execute_result"
    }
   ],
   "source": [
    "data_test = data_test[1:]\n",
    "len(data_test)"
   ]
  },
  {
   "cell_type": "code",
   "execution_count": 33,
   "metadata": {},
   "outputs": [],
   "source": [
    "s1_test, s2_test, label_test, genre = zip(*data_test)"
   ]
  },
  {
   "cell_type": "code",
   "execution_count": 34,
   "metadata": {},
   "outputs": [
    {
     "data": {
      "text/plain": [
       "['fiction', 'government', 'slate', 'travel', 'telephone']"
      ]
     },
     "execution_count": 34,
     "metadata": {},
     "output_type": "execute_result"
    }
   ],
   "source": [
    "genre_set = list(set(genre))\n",
    "genre_set"
   ]
  },
  {
   "cell_type": "code",
   "execution_count": 36,
   "metadata": {},
   "outputs": [],
   "source": [
    "data_t = {'slate': [], 'travel': [], 'fiction': [], 'government': [], 'telephone': []}"
   ]
  },
  {
   "cell_type": "code",
   "execution_count": 37,
   "metadata": {},
   "outputs": [],
   "source": [
    "for i in range(len(data_test)):\n",
    "    data_t[data_test[i][-1]].append(data_test[i][:-1])"
   ]
  },
  {
   "cell_type": "code",
   "execution_count": 40,
   "metadata": {},
   "outputs": [
    {
     "name": "stdout",
     "output_type": "stream",
     "text": [
      "fiction\n"
     ]
    },
    {
     "name": "stderr",
     "output_type": "stream",
     "text": [
      "/home/ml5893/pyenv/py3.6.3/lib/python3.6/site-packages/ipykernel_launcher.py:43: UserWarning: RNN module weights are not part of single contiguous chunk of memory. This means they need to be compacted at every call, possibly greatly increasing memory usage. To compact weights again call flatten_parameters().\n",
      "/home/ml5893/pyenv/py3.6.3/lib/python3.6/site-packages/ipykernel_launcher.py:44: UserWarning: RNN module weights are not part of single contiguous chunk of memory. This means they need to be compacted at every call, possibly greatly increasing memory usage. To compact weights again call flatten_parameters().\n"
     ]
    },
    {
     "name": "stdout",
     "output_type": "stream",
     "text": [
      "43.11557788944724\n",
      "government\n",
      "44.19291338582677\n",
      "slate\n",
      "43.11377245508982\n",
      "travel\n",
      "44.09368635437882\n",
      "telephone\n",
      "47.56218905472637\n"
     ]
    }
   ],
   "source": [
    "for gen in genre_set:\n",
    "    print(gen)\n",
    "    \n",
    "    data_s1, data_s2, data_label = zip(*data_t[gen])\n",
    "    data_s1_tokens, _ = tokenize_dataset_ngrams(data_s1)\n",
    "    data_s2_tokens, _ = tokenize_dataset_ngrams(data_s2)\n",
    "    data_label0 = convert_labels(data_label)\n",
    "    \n",
    "    data_s1_indices = token2index_dataset(data_s1_tokens, token2id)\n",
    "    data_s2_indices = token2index_dataset(data_s2_tokens, token2id)\n",
    "    \n",
    "    test_dataset = SNLIDataset(data_s1_indices, data_s2_indices, data_label0)\n",
    "    test_loader = torch.utils.data.DataLoader(dataset=test_dataset,\n",
    "                                           batch_size=BATCH_SIZE,\n",
    "                                           collate_fn=vocab_collate_func,\n",
    "                                           shuffle=True)\n",
    "    test_acc, test_loss = test_model2(test_loader, best_model)\n",
    "    print(test_acc)"
   ]
  },
  {
   "cell_type": "code",
   "execution_count": null,
   "metadata": {},
   "outputs": [],
   "source": []
  },
  {
   "cell_type": "code",
   "execution_count": null,
   "metadata": {},
   "outputs": [],
   "source": []
  },
  {
   "cell_type": "code",
   "execution_count": null,
   "metadata": {},
   "outputs": [],
   "source": []
  },
  {
   "cell_type": "code",
   "execution_count": null,
   "metadata": {},
   "outputs": [],
   "source": []
  },
  {
   "cell_type": "code",
   "execution_count": 33,
   "metadata": {},
   "outputs": [],
   "source": [
    "import matplotlib.pyplot as plt"
   ]
  },
  {
   "cell_type": "code",
   "execution_count": 52,
   "metadata": {},
   "outputs": [
    {
     "data": {
      "image/png": "[encoded data removed]",
      "text/plain": [
       "<matplotlib.figure.Figure at 0x2b576fd03c18>"
      ]
     },
     "metadata": {
      "needs_background": "light"
     },
     "output_type": "display_data"
    }
   ],
   "source": [
    "plt.plot(step_record, train_acc_record, label = 'train accuracy')\n",
    "plt.plot(step_record, val_acc_record, label = 'train accuracy')\n",
    "plt.legend()\n",
    "plt.title(\"Accuracy vs Training Step\")\n",
    "plt.xlabel(\"step\")\n",
    "plt.ylabel(\"accuracy\")\n",
    "plt.savefig(\"result/rnn_acc_hs200_ls200.pdf\")\n",
    "plt.show()"
   ]
  },
  {
   "cell_type": "markdown",
   "metadata": {},
   "source": [
    "Multiply the two presentation"
   ]
  },
  {
   "cell_type": "code",
   "execution_count": 47,
   "metadata": {},
   "outputs": [],
   "source": [
    "class GRU(nn.Module):\n",
    "    def __init__(self, emb_size, hidden_size, num_layers, num_classes, vocab_size, pretrained_weight):\n",
    "        \"\"\"\n",
    "        GRU accepts the following hyperparams:\n",
    "        input_size - The number of expected features of in the input x\n",
    "        hidden_size - The number of features in the hidden state h\n",
    "        num_layers - Here we use the Default:1\n",
    "        bias - True\n",
    "        batch_first - The input and output tensors are provided as (batch, seq, feature)\n",
    "        bidirectional - \n",
    "        ===================================================================================\n",
    "        Note: padding_idx = 0\n",
    "        \"\"\"\n",
    "        super(GRU, self).__init__()\n",
    "        \n",
    "        layer_size2 = 20\n",
    "        \n",
    "        self.num_layers, self.hidden_size = num_layers, hidden_size\n",
    "        self.embedding = nn.Embedding(vocab_size, emb_size, padding_idx = 0)\n",
    "        self.embedding.weight.data.copy_(torch.from_numpy(pretrained_weight))\n",
    "        self.gru = nn.GRU(emb_size, hidden_size, num_layers, batch_first=True, bidirectional = True) # The first dimension is the batch dimension\n",
    "        self.linear1 = nn.Linear(2*hidden_size, layer_size2)\n",
    "        self.linear2 = nn.Linear(layer_size2, num_classes)\n",
    "\n",
    "    def init_hidden(self, batch_size):\n",
    "        # Function initializes the activation of recurrent neural net at timestep 0\n",
    "        # Needs to be in format (num_layers, batch_size, hidden_size)\n",
    "        hidden = torch.randn(2*self.num_layers, batch_size, self.hidden_size)\n",
    "\n",
    "        return hidden.to(device)\n",
    "\n",
    "    def forward(self, s1, s2, lengths):\n",
    "        # reset hidden state\n",
    "        batch_size, seq_len = s1.size()\n",
    "\n",
    "        self.hidden_s1 = self.init_hidden(batch_size)\n",
    "        self.hidden_s2 = self.init_hidden(batch_size)\n",
    "        \n",
    "        embed_s1 = self.embedding(s1)\n",
    "        embed_s2 = self.embedding(s2)\n",
    "    \n",
    "        rnn_out_s1, self.hidden_s1 = self.gru(embed_s1, self.hidden_s1)\n",
    "        rnn_out_s2, self.hidden_s2 = self.gru(embed_s2, self.hidden_s2)\n",
    "        \n",
    "        rnn_out_s1 = torch.sum(rnn_out_s1, dim=1)\n",
    "        rnn_out_s2 = torch.sum(rnn_out_s2, dim=1)\n",
    "        \n",
    "        rnn_out = rnn_out_s1 * rnn_out_s2\n",
    "        \n",
    "        rnn_out = self.linear1(rnn_out)\n",
    "        rnn_out = F.relu(rnn_out)\n",
    "        logits = self.linear2(rnn_out)\n",
    "        \n",
    "        return logits\n",
    "\n"
   ]
  },
  {
   "cell_type": "code",
   "execution_count": 48,
   "metadata": {},
   "outputs": [],
   "source": [
    "model = GRU(emb_size=300, hidden_size=200, num_layers=1, num_classes=3, \n",
    "            vocab_size=len(id2token), pretrained_weight = pre_emb_matrix).to(device)\n",
    "result_FILE = 'result/rnn_hs200_add.p'"
   ]
  },
  {
   "cell_type": "code",
   "execution_count": 49,
   "metadata": {},
   "outputs": [
    {
     "name": "stdout",
     "output_type": "stream",
     "text": [
      "6484783\n"
     ]
    }
   ],
   "source": [
    "model_parameters = filter(lambda p: p.requires_grad, model.parameters())\n",
    "params = sum([np.prod(p.size()) for p in model_parameters])\n",
    "print(params)"
   ]
  },
  {
   "cell_type": "code",
   "execution_count": 62,
   "metadata": {},
   "outputs": [
    {
     "name": "stdout",
     "output_type": "stream",
     "text": [
      "Epoch: [1/10], Step: [301/3125], Val_Acc: 33.1, Train_Acc: 33.16, Val_loss: 1.1035100929439068, Train_loss: 1.103185442085266\n",
      "Epoch: [1/10], Step: [601/3125], Val_Acc: 33.1, Train_Acc: 33.164, Val_loss: 1.1006201580166817, Train_loss: 1.1011054068374633\n",
      "Epoch: [1/10], Step: [901/3125], Val_Acc: 33.1, Train_Acc: 33.182, Val_loss: 1.0997655615210533, Train_loss: 1.0999165306091307\n",
      "Epoch: [1/10], Step: [1201/3125], Val_Acc: 33.1, Train_Acc: 33.167, Val_loss: 1.0998134687542915, Train_loss: 1.0994847689819336\n",
      "Epoch: [1/10], Step: [1501/3125], Val_Acc: 33.1, Train_Acc: 33.163, Val_loss: 1.09901949390769, Train_loss: 1.0991282250213623\n",
      "Epoch: [1/10], Step: [1801/3125], Val_Acc: 33.1, Train_Acc: 33.17, Val_loss: 1.0990152768790722, Train_loss: 1.0987879649734498\n"
     ]
    },
    {
     "ename": "KeyboardInterrupt",
     "evalue": "",
     "output_type": "error",
     "traceback": [
      "\u001b[0;31m---------------------------------------------------------------------------\u001b[0m",
      "\u001b[0;31mKeyboardInterrupt\u001b[0m                         Traceback (most recent call last)",
      "\u001b[0;32m<ipython-input-62-94e7654f6bc2>\u001b[0m in \u001b[0;36m<module>\u001b[0;34m\u001b[0m\n\u001b[1;32m     25\u001b[0m         \u001b[0;31m# Backward and optimize\u001b[0m\u001b[0;34m\u001b[0m\u001b[0;34m\u001b[0m\u001b[0m\n\u001b[1;32m     26\u001b[0m         \u001b[0mloss\u001b[0m\u001b[0;34m.\u001b[0m\u001b[0mbackward\u001b[0m\u001b[0;34m(\u001b[0m\u001b[0;34m)\u001b[0m\u001b[0;34m\u001b[0m\u001b[0m\n\u001b[0;32m---> 27\u001b[0;31m         \u001b[0moptimizer\u001b[0m\u001b[0;34m.\u001b[0m\u001b[0mstep\u001b[0m\u001b[0;34m(\u001b[0m\u001b[0;34m)\u001b[0m\u001b[0;34m\u001b[0m\u001b[0m\n\u001b[0m\u001b[1;32m     28\u001b[0m         \u001b[0;31m# validate every 100 iterations\u001b[0m\u001b[0;34m\u001b[0m\u001b[0;34m\u001b[0m\u001b[0m\n\u001b[1;32m     29\u001b[0m         \u001b[0;32mif\u001b[0m \u001b[0mi\u001b[0m \u001b[0;34m>\u001b[0m \u001b[0;36m0\u001b[0m \u001b[0;32mand\u001b[0m \u001b[0mi\u001b[0m \u001b[0;34m%\u001b[0m \u001b[0;36m300\u001b[0m \u001b[0;34m==\u001b[0m \u001b[0;36m0\u001b[0m\u001b[0;34m:\u001b[0m\u001b[0;34m\u001b[0m\u001b[0m\n",
      "\u001b[0;32m~/pyenv/py3.6.3/lib/python3.6/site-packages/torch/optim/adam.py\u001b[0m in \u001b[0;36mstep\u001b[0;34m(self, closure)\u001b[0m\n\u001b[1;32m     98\u001b[0m                     \u001b[0mdenom\u001b[0m \u001b[0;34m=\u001b[0m \u001b[0mmax_exp_avg_sq\u001b[0m\u001b[0;34m.\u001b[0m\u001b[0msqrt\u001b[0m\u001b[0;34m(\u001b[0m\u001b[0;34m)\u001b[0m\u001b[0;34m.\u001b[0m\u001b[0madd_\u001b[0m\u001b[0;34m(\u001b[0m\u001b[0mgroup\u001b[0m\u001b[0;34m[\u001b[0m\u001b[0;34m'eps'\u001b[0m\u001b[0;34m]\u001b[0m\u001b[0;34m)\u001b[0m\u001b[0;34m\u001b[0m\u001b[0m\n\u001b[1;32m     99\u001b[0m                 \u001b[0;32melse\u001b[0m\u001b[0;34m:\u001b[0m\u001b[0;34m\u001b[0m\u001b[0m\n\u001b[0;32m--> 100\u001b[0;31m                     \u001b[0mdenom\u001b[0m \u001b[0;34m=\u001b[0m \u001b[0mexp_avg_sq\u001b[0m\u001b[0;34m.\u001b[0m\u001b[0msqrt\u001b[0m\u001b[0;34m(\u001b[0m\u001b[0;34m)\u001b[0m\u001b[0;34m.\u001b[0m\u001b[0madd_\u001b[0m\u001b[0;34m(\u001b[0m\u001b[0mgroup\u001b[0m\u001b[0;34m[\u001b[0m\u001b[0;34m'eps'\u001b[0m\u001b[0;34m]\u001b[0m\u001b[0;34m)\u001b[0m\u001b[0;34m\u001b[0m\u001b[0m\n\u001b[0m\u001b[1;32m    101\u001b[0m \u001b[0;34m\u001b[0m\u001b[0m\n\u001b[1;32m    102\u001b[0m                 \u001b[0mbias_correction1\u001b[0m \u001b[0;34m=\u001b[0m \u001b[0;36m1\u001b[0m \u001b[0;34m-\u001b[0m \u001b[0mbeta1\u001b[0m \u001b[0;34m**\u001b[0m \u001b[0mstate\u001b[0m\u001b[0;34m[\u001b[0m\u001b[0;34m'step'\u001b[0m\u001b[0;34m]\u001b[0m\u001b[0;34m\u001b[0m\u001b[0m\n",
      "\u001b[0;31mKeyboardInterrupt\u001b[0m: "
     ]
    }
   ],
   "source": [
    "learning_rate = 3e-4\n",
    "num_epochs = 10 # number epoch to train\n",
    "\n",
    "val_acc_record = []\n",
    "train_acc_record = []\n",
    "val_loss_record = []\n",
    "train_loss_record = []\n",
    "step_record = []\n",
    "\n",
    "# Criterion and Optimizer\n",
    "criterion = torch.nn.CrossEntropyLoss()\n",
    "optimizer = torch.optim.Adam(model.parameters(), lr=learning_rate)\n",
    "\n",
    "# Train the model\n",
    "total_step = len(train_loader)\n",
    "\n",
    "for epoch in range(num_epochs):\n",
    "    for i, (s1, s2, lengths, labels) in enumerate(train_loader):\n",
    "        model.train()\n",
    "        optimizer.zero_grad()\n",
    "        # Forward pass\n",
    "        outputs = model(s1.to(device), s2.to(device), lengths.to(device))\n",
    "        loss = criterion(outputs, labels.to(device))\n",
    "\n",
    "        # Backward and optimize\n",
    "        loss.backward()\n",
    "        optimizer.step()\n",
    "        # validate every 100 iterations\n",
    "        if i > 0 and i % 300 == 0:\n",
    "            # validate\n",
    "            val_acc, val_loss = test_model2(val_loader, model)\n",
    "            val_acc_record.append(val_acc)\n",
    "            val_loss_record.append(val_loss)\n",
    "            train_acc, train_loss = test_model2(train_loader, model)\n",
    "            train_acc_record.append(train_acc)\n",
    "            train_loss_record.append(train_loss)\n",
    "            step_record.append( i + epoch * total_step)\n",
    "            print('Epoch: [{}/{}], Step: [{}/{}], Val_Acc: {}, Train_Acc: {}, Val_loss: {}, Train_loss: {}'.format(\n",
    "                       epoch+1, num_epochs, i+1, len(train_loader), val_acc, train_acc, val_loss, train_loss))\n",
    "\n",
    "training_curve = zip(step_record, train_acc_record, train_loss_record, val_acc_record, val_loss_record)\n",
    "pkl.dump(training_curve, open(result_FILE, \"wb\"))"
   ]
  },
  {
   "cell_type": "code",
   "execution_count": 1,
   "metadata": {},
   "outputs": [
    {
     "data": {
      "text/plain": [
       "0.0003"
      ]
     },
     "execution_count": 1,
     "metadata": {},
     "output_type": "execute_result"
    }
   ],
   "source": [
    "3e-4"
   ]
  },
  {
   "cell_type": "code",
   "execution_count": null,
   "metadata": {},
   "outputs": [],
   "source": []
  }
 ],
 "metadata": {
  "kernelspec": {
   "display_name": "Python 3",
   "language": "python",
   "name": "python3"
  },
  "language_info": {
   "codemirror_mode": {
    "name": "ipython",
    "version": 3
   },
   "file_extension": ".py",
   "mimetype": "text/x-python",
   "name": "python",
   "nbconvert_exporter": "python",
   "pygments_lexer": "ipython3",
   "version": "3.6.3"
  }
 },
 "nbformat": 4,
 "nbformat_minor": 2
}
