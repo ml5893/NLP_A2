{
 "cells": [
  {
   "cell_type": "code",
   "execution_count": 1,
   "metadata": {},
   "outputs": [],
   "source": [
    "import csv\n",
    "from nltk import ngrams\n",
    "import string\n",
    "import re\n",
    "import pickle as pkl\n",
    "import numpy as np"
   ]
  },
  {
   "cell_type": "code",
   "execution_count": 2,
   "metadata": {},
   "outputs": [
    {
     "name": "stdout",
     "output_type": "stream",
     "text": [
      "Requirement already satisfied: nltk in /home/ml5893/pyenv/py3.6.3/lib/python3.6/site-packages (3.3)\r\n",
      "Requirement already satisfied: six in /home/ml5893/pyenv/py3.6.3/lib/python3.6/site-packages (from nltk) (1.11.0)\r\n"
     ]
    }
   ],
   "source": [
    "!pip install nltk"
   ]
  },
  {
   "cell_type": "code",
   "execution_count": 3,
   "metadata": {},
   "outputs": [],
   "source": [
    "data_val = []\n",
    "with open('snli_val.tsv','r', encoding = 'utf-8', newline = '') as file:\n",
    "    tsvreader = csv.reader(file, delimiter='\\t')\n",
    "    data_val = [line for line in tsvreader]\n",
    "    \n",
    "data_train = []\n",
    "with open('snli_train.tsv','r', encoding = 'utf-8', newline = '') as file:\n",
    "    tsvreader = csv.reader(file, delimiter='\\t')\n",
    "    data_train = [line for line in tsvreader]"
   ]
  },
  {
   "cell_type": "code",
   "execution_count": 4,
   "metadata": {},
   "outputs": [
    {
     "name": "stdout",
     "output_type": "stream",
     "text": [
      "Train dataset size is 100001\n",
      "Validation dataset size is 1001\n"
     ]
    }
   ],
   "source": [
    "print(\"Train dataset size is {}\".format(len(data_train)))\n",
    "print(\"Validation dataset size is {}\".format(len(data_val)))"
   ]
  },
  {
   "cell_type": "code",
   "execution_count": 5,
   "metadata": {},
   "outputs": [],
   "source": [
    "data_val_s1, data_val_s2, data_val_label = zip(*data_val)\n",
    "data_train_s1, data_train_s2, data_train_label = zip(*data_train)"
   ]
  },
  {
   "cell_type": "code",
   "execution_count": 6,
   "metadata": {},
   "outputs": [],
   "source": [
    "data_val_s1 = data_val_s1[1:]\n",
    "data_val_s2 = data_val_s2[1:]\n",
    "data_val_label = data_val_label[1:]\n",
    "data_train_s1 = data_train_s1[1:]\n",
    "data_train_s2 = data_train_s2[1:]\n",
    "data_train_label = data_train_label[1:]"
   ]
  },
  {
   "cell_type": "code",
   "execution_count": 7,
   "metadata": {},
   "outputs": [
    {
     "data": {
      "text/plain": [
       "1000"
      ]
     },
     "execution_count": 7,
     "metadata": {},
     "output_type": "execute_result"
    }
   ],
   "source": [
    "len(data_val_label)"
   ]
  },
  {
   "cell_type": "code",
   "execution_count": 8,
   "metadata": {},
   "outputs": [],
   "source": [
    "\"\"\"\n",
    "Tokenize data\n",
    "\"\"\"\n",
    "def tokenize_ngrams(sent):\n",
    "    #tokens = ngrams(re.findall(r\"[\\w']+|[.,!?;():~@+-<>#]\", sent.lower()),n)\n",
    "    tokens = ngrams([gram for gram in re.findall(r\"[\\w']+|[.,!?;():~@+-<>#]*\", sent.lower())\n",
    "                     if (gram not in string.punctuation)], 1)\n",
    "    return [token[0] for token in tokens]\n",
    "\n",
    "def tokenize_dataset_ngrams(dataset):\n",
    "    all_tokens = []\n",
    "    token_dataset = []\n",
    "    for sample in dataset:\n",
    "        tokens = tokenize_ngrams(sample)\n",
    "        token_dataset.append(tokens)\n",
    "        all_tokens += tokens\n",
    "    return token_dataset, all_tokens\n",
    "    \n",
    "def convert_labels(dataset_label):\n",
    "    \"\"\"Convert labels from number\n",
    "       entails  --> 1\n",
    "       contradiction --> -1\n",
    "       neural --> 0\n",
    "    \"\"\"\n",
    "    labels = []\n",
    "    for l in dataset_label:\n",
    "        if l == 'entailment':\n",
    "            labels.append(2)\n",
    "        elif l == 'contradiction':\n",
    "            labels.append(0)\n",
    "        elif l == 'neutral':\n",
    "            labels.append(1)\n",
    "        elif l=='label':\n",
    "            labels.append('label')\n",
    "    return labels\n",
    "            "
   ]
  },
  {
   "cell_type": "code",
   "execution_count": 9,
   "metadata": {},
   "outputs": [],
   "source": [
    "data_val_s1_tokens, _ = tokenize_dataset_ngrams(data_val_s1)\n",
    "data_val_s2_tokens, _ = tokenize_dataset_ngrams(data_val_s2)\n",
    "data_val_label0 = convert_labels(data_val_label)\n",
    "data_train_s1_tokens, all_train_s1_tokens = tokenize_dataset_ngrams(data_train_s1)\n",
    "data_train_s2_tokens, all_train_s2_tokens = tokenize_dataset_ngrams(data_train_s2)\n",
    "data_train_label0 = convert_labels(data_train_label)"
   ]
  },
  {
   "cell_type": "code",
   "execution_count": 10,
   "metadata": {},
   "outputs": [
    {
     "name": "stdout",
     "output_type": "stream",
     "text": [
      "Total number of all tokens in train dataset is 2037612\n"
     ]
    }
   ],
   "source": [
    "all_train_tokens = all_train_s1_tokens + all_train_s2_tokens\n",
    "print(\"Total number of all tokens in train dataset is {}\".format(len(all_train_tokens)))"
   ]
  },
  {
   "cell_type": "code",
   "execution_count": 11,
   "metadata": {},
   "outputs": [
    {
     "name": "stdout",
     "output_type": "stream",
     "text": [
      "1000\n"
     ]
    }
   ],
   "source": [
    "print(len(data_val_label0))"
   ]
  },
  {
   "cell_type": "code",
   "execution_count": 12,
   "metadata": {},
   "outputs": [],
   "source": [
    "\"\"\"Build Vocabulary\"\"\"\n",
    "from collections import Counter\n",
    "\n",
    "max_vocab_size = 20000\n",
    "# save index 0 for unk and 1 for pad\n",
    "PAD_IDX = 0\n",
    "UNK_IDX = 1\n",
    "\n",
    "def build_vocab(all_tokens):\n",
    "    # Returns:\n",
    "    # id2token: list of tokens, where id2token[i] returns token that corresponds to token i\n",
    "    # token2id: dictionary where keys represent tokens and corresponding values represent indices\n",
    "    token_counter = Counter(all_tokens)\n",
    "    vocab, count = zip(*token_counter.most_common(max_vocab_size-2))\n",
    "    id2token = list(vocab)\n",
    "    token2id = dict(zip(vocab, range(2,2+len(vocab)))) \n",
    "    id2token = ['<pad>', '<unk>'] + id2token\n",
    "    token2id['<pad>'] = PAD_IDX \n",
    "    token2id['<unk>'] = UNK_IDX\n",
    "    return token2id, id2token\n",
    "\n",
    "token2id, id2token = build_vocab(all_train_tokens)"
   ]
  },
  {
   "cell_type": "code",
   "execution_count": 13,
   "metadata": {},
   "outputs": [],
   "source": [
    "if len(token2id)< max_vocab_size:\n",
    "    max_vocab_size = len(token2id)"
   ]
  },
  {
   "cell_type": "code",
   "execution_count": 14,
   "metadata": {},
   "outputs": [
    {
     "name": "stdout",
     "output_type": "stream",
     "text": [
      "19581\n"
     ]
    }
   ],
   "source": [
    "print(len(token2id))"
   ]
  },
  {
   "cell_type": "code",
   "execution_count": 15,
   "metadata": {},
   "outputs": [
    {
     "name": "stdout",
     "output_type": "stream",
     "text": [
      "Embedding_matrix shape is (200000, 300)\n",
      "Embedding Vocabualry size is 200000\n"
     ]
    }
   ],
   "source": [
    "\"\"\"Load pretrained embedding matrix\"\"\"\n",
    "\n",
    "words_to_load = 200000\n",
    "\n",
    "with open('wiki-news-300d-1M.vec', 'r', encoding = 'utf-8') as f:\n",
    "    embedding_matrix = np.zeros([words_to_load, 300])\n",
    "    word2id_emb = {}\n",
    "    id2word_emb = []\n",
    "    next(f)\n",
    "    for i, line in enumerate(f):\n",
    "        if i >= words_to_load: \n",
    "            break\n",
    "        s = line.split()\n",
    "        id2word_emb.append(s[0])\n",
    "        word2id_emb[s[0]] = 0\n",
    "        embedding_matrix[i] = np.asarray(s[1:])\n",
    "\n",
    "print(\"Embedding_matrix shape is {}\".format(embedding_matrix.shape))\n",
    "print(\"Embedding Vocabualry size is {}\".format(len(id2word_emb)))"
   ]
  },
  {
   "cell_type": "code",
   "execution_count": 16,
   "metadata": {},
   "outputs": [
    {
     "name": "stdout",
     "output_type": "stream",
     "text": [
      "0.8282008069046525 tokens appear in the pretrained dataset\n"
     ]
    }
   ],
   "source": [
    "\"\"\"Build pretrained Embedding Matrix\"\"\"\n",
    "pre_emb_matrix = np.zeros([max_vocab_size, 300])\n",
    "\n",
    "i = 0\n",
    "for word in id2token:\n",
    "    try:\n",
    "        id_pretrain = word2id_emb[word]\n",
    "        pre_emb_matrix[token2id[word]] = embedding_matrix[id_pretrain]\n",
    "    except KeyError:\n",
    "        pre_emb_matrix[token2id[word]] = np.zeros(300)\n",
    "        i = i+1\n",
    "print(\"{} tokens appear in the pretrained dataset\".format(1-i/max_vocab_size))"
   ]
  },
  {
   "cell_type": "code",
   "execution_count": 17,
   "metadata": {},
   "outputs": [
    {
     "data": {
      "text/plain": [
       "(19581, 300)"
      ]
     },
     "execution_count": 17,
     "metadata": {},
     "output_type": "execute_result"
    }
   ],
   "source": [
    "pre_emb_matrix.shape"
   ]
  },
  {
   "cell_type": "code",
   "execution_count": 18,
   "metadata": {},
   "outputs": [],
   "source": [
    "# convert token to id in the dataset\n",
    "def token2index_dataset(tokens_data, token2id):\n",
    "    indices_data = []\n",
    "    for tokens in tokens_data:\n",
    "        index_list = [token2id[token] if token in token2id else UNK_IDX for token in tokens]\n",
    "        indices_data.append(index_list)\n",
    "    return indices_data"
   ]
  },
  {
   "cell_type": "code",
   "execution_count": 19,
   "metadata": {},
   "outputs": [],
   "source": [
    "data_val_s1_indices = token2index_dataset(data_val_s1_tokens, token2id)\n",
    "data_val_s2_indices = token2index_dataset(data_val_s2_tokens, token2id)\n",
    "data_train_s1_indices = token2index_dataset(data_train_s1_tokens, token2id)\n",
    "data_train_s2_indices = token2index_dataset(data_train_s2_tokens, token2id)"
   ]
  },
  {
   "cell_type": "code",
   "execution_count": 20,
   "metadata": {},
   "outputs": [
    {
     "data": {
      "text/plain": [
       "(1000, 100000, 100000)"
      ]
     },
     "execution_count": 20,
     "metadata": {},
     "output_type": "execute_result"
    }
   ],
   "source": [
    "len(data_val_s1_indices), len(data_train_s2_indices), len(data_train_label0)"
   ]
  },
  {
   "cell_type": "markdown",
   "metadata": {},
   "source": [
    "Create Dataset"
   ]
  },
  {
   "cell_type": "code",
   "execution_count": 21,
   "metadata": {},
   "outputs": [],
   "source": [
    "from torch.utils.data import Dataset"
   ]
  },
  {
   "cell_type": "code",
   "execution_count": 22,
   "metadata": {},
   "outputs": [],
   "source": [
    "class SNLIDataset(Dataset):\n",
    "    \"\"\"\n",
    "    Class that represents a train/validation/test dataset that's readable for PyTorch\n",
    "    Note that this class inherits torch.utils.data.Dataset\n",
    "    \"\"\"\n",
    "\n",
    "    def __init__(self, data_list_s1, data_list_s2, data_label_list):\n",
    "        \"\"\"\n",
    "        @param data_list: list of character\n",
    "        @param target_list: list of targets\n",
    "\n",
    "        \"\"\"\n",
    "        self.s1_list, self.s2_list, self.label_list = data_list_s1, data_list_s2, data_label_list\n",
    "        assert ((len(self.s1_list) == len(self.label_list)) and (len(self.s1_list) == len(self.s2_list)))\n",
    "\n",
    "    def __len__(self):\n",
    "        return len(self.label_list)\n",
    "\n",
    "    def __getitem__(self, key):\n",
    "        \"\"\"\n",
    "        Triggered when you call dataset[i]\n",
    "        \"\"\"\n",
    "        return [self.s1_list[key], self.s2_list[key], max(len(self.s1_list[key]), len(self.s2_list[key])), self.label_list[key]]\n",
    "\n",
    "def vocab_collate_func(batch):\n",
    "    \"\"\"\n",
    "    Customized function for DataLoader that dynamically pads the batch so that all\n",
    "    data have the same length\n",
    "    \"\"\"\n",
    "    s1_list = []\n",
    "    s2_list = []\n",
    "    label_list = []\n",
    "    length_list = []\n",
    "\n",
    "    for datum in batch:\n",
    "        label_list.append(datum[3])\n",
    "        length_list.append(datum[2])\n",
    "    # padding\n",
    "    #MAX_WORD_LENGTH\n",
    "    max_length = max(length_list)\n",
    "    for datum in batch:\n",
    "        padded_vec_s1 = np.pad(np.array(datum[0]),\n",
    "                                pad_width=((0,max_length-len(datum[0]))),\n",
    "                                mode=\"constant\", constant_values=0)\n",
    "        padded_vec_s2 = np.pad(np.array(datum[1]),\n",
    "                                pad_width=((0,max_length-len(datum[1]))),\n",
    "                                mode=\"constant\", constant_values=0)\n",
    "        s1_list.append(padded_vec_s1)\n",
    "        s2_list.append(padded_vec_s2)\n",
    "    ind_dec_order = np.argsort(length_list)[::-1]\n",
    "    s1_list = np.array(s1_list)[ind_dec_order]\n",
    "    s2_list = np.array(s2_list)[ind_dec_order]\n",
    "    length_list = np.array(length_list)[ind_dec_order]\n",
    "    label_list = np.array(label_list)[ind_dec_order]\n",
    "    return [torch.from_numpy(np.array(s1_list)), torch.from_numpy(np.array(s2_list)), torch.LongTensor(length_list), torch.LongTensor(label_list)]\n",
    "\n"
   ]
  },
  {
   "cell_type": "code",
   "execution_count": 23,
   "metadata": {},
   "outputs": [],
   "source": [
    "import torch\n",
    "import torch.nn as nn\n",
    "import torch.nn.functional as F\n",
    "from torch.utils.data import Dataset\n",
    "\n",
    "BATCH_SIZE = 32"
   ]
  },
  {
   "cell_type": "code",
   "execution_count": 24,
   "metadata": {},
   "outputs": [],
   "source": [
    "train_dataset = SNLIDataset(data_train_s1_indices, data_train_s2_indices, data_train_label0)\n",
    "train_loader = torch.utils.data.DataLoader(dataset=train_dataset,\n",
    "                                           batch_size=BATCH_SIZE,\n",
    "                                           collate_fn=vocab_collate_func,\n",
    "                                           shuffle=True)\n",
    "\n",
    "val_dataset = SNLIDataset(data_val_s1_indices, data_val_s2_indices, data_val_label0)\n",
    "val_loader = torch.utils.data.DataLoader(dataset=val_dataset,\n",
    "                                           batch_size=BATCH_SIZE,\n",
    "                                           collate_fn=vocab_collate_func,\n",
    "                                           shuffle=True)"
   ]
  },
  {
   "cell_type": "markdown",
   "metadata": {},
   "source": [
    "Build CNN model"
   ]
  },
  {
   "cell_type": "code",
   "execution_count": 25,
   "metadata": {},
   "outputs": [],
   "source": [
    "class CNN(nn.Module):\n",
    "    def __init__(self, emb_size, hidden_size, num_layers, kernal_size, num_classes, vocab_size, pretrained_weight):\n",
    "\n",
    "        super(CNN, self).__init__()\n",
    "        \n",
    "        linear_size1 = 20\n",
    "        padding_size = int((kernal_size-1)/2)\n",
    "        \n",
    "        self.num_layers, self.hidden_size, self.kernal_size = num_layers, hidden_size, kernal_size\n",
    "        self.embedding = nn.Embedding(vocab_size, emb_size, padding_idx=PAD_IDX)\n",
    "        self.embedding.weight.data.copy_(torch.from_numpy(pretrained_weight))\n",
    "    \n",
    "        self.conv1 = nn.Conv1d(emb_size, hidden_size, kernel_size=kernal_size, padding=padding_size)\n",
    "        self.conv2 = nn.Conv1d(hidden_size, hidden_size, kernel_size=kernal_size, padding=padding_size)\n",
    "\n",
    "        self.linear1 = nn.Linear(2*hidden_size, linear_size1)\n",
    "        self.linear2 = nn.Linear(linear_size1, num_classes)\n",
    "\n",
    "    def forward(self, s1, s2, lengths):\n",
    "        batch_size, seq_len = s1.size()\n",
    "\n",
    "        embed_s1 = self.embedding(s1)\n",
    "        embed_s2 = self.embedding(s2)\n",
    "        \n",
    "        hidden_s1 = self.conv1(embed_s1.transpose(1,2)).transpose(1,2)\n",
    "        hidden_s1 = F.relu(hidden_s1.contiguous().view(-1, hidden_s1.size(-1))).view(batch_size, seq_len, hidden_s1.size(-1))\n",
    "\n",
    "        hidden_s1 = self.conv2(hidden_s1.transpose(1,2)).transpose(1,2)\n",
    "        hidden_s1 = F.relu(hidden_s1.contiguous().view(-1, hidden_s1.size(-1))).view(batch_size, seq_len, hidden_s1.size(-1))\n",
    "\n",
    "        hidden_s1 = torch.sum(hidden_s1, dim=1)\n",
    "        \n",
    "        hidden_s2 = self.conv1(embed_s2.transpose(1,2)).transpose(1,2)\n",
    "        hidden_s2 = F.relu(hidden_s2.contiguous().view(-1, hidden_s2.size(-1))).view(batch_size, seq_len, hidden_s2.size(-1))\n",
    "\n",
    "        hidden_s2 = self.conv2(hidden_s2.transpose(1,2)).transpose(1,2)\n",
    "        hidden_s2 = F.relu(hidden_s2.contiguous().view(-1, hidden_s2.size(-1))).view(batch_size, seq_len, hidden_s2.size(-1))\n",
    "\n",
    "        hidden_s2 = torch.sum(hidden_s2, dim=1)\n",
    "        \n",
    "        hidden = torch.cat((hidden_s1, hidden_s2),-1)\n",
    "        \n",
    "        hidden = self.linear1(hidden)\n",
    "        hidden = F.relu(hidden)\n",
    "        \n",
    "        logits = self.linear2(hidden)\n",
    "        \n",
    "        return logits"
   ]
  },
  {
   "cell_type": "code",
   "execution_count": 26,
   "metadata": {},
   "outputs": [],
   "source": [
    "device = torch.device('cuda:0' if torch.cuda.is_available() else 'cpu')"
   ]
  },
  {
   "cell_type": "code",
   "execution_count": 27,
   "metadata": {},
   "outputs": [],
   "source": [
    "def test_model(loader, model):\n",
    "    \"\"\"\n",
    "    Help function that tests the model's performance on a dataset\n",
    "    @param: loader - data loader for the dataset to test against\n",
    "    \"\"\"\n",
    "    correct = 0\n",
    "    total = 0\n",
    "    model.eval()\n",
    "    for s1, s2, lengths, labels in loader:\n",
    "        s1_batch, s2_batch, lengths_batch, label_batch = s1, s2, lengths, labels\n",
    "        outputs = F.softmax(model(s1_batch, s2_batch, lengths_batch), dim=1)\n",
    "        predicted = outputs.max(1, keepdim=True)[1]\n",
    "\n",
    "        total += labels.size(0)\n",
    "        correct += predicted.eq(labels.view_as(predicted)).sum().item()\n",
    "    return (100 * correct / total)\n",
    "\n"
   ]
  },
  {
   "cell_type": "code",
   "execution_count": 28,
   "metadata": {},
   "outputs": [],
   "source": [
    "def test_model2(loader, model):\n",
    "    \"\"\"\n",
    "    Help function that tests the model's performance on a dataset\n",
    "    @param: loader - data loader for the dataset to test against\n",
    "    \"\"\"\n",
    "    correct = 0\n",
    "    total = 0\n",
    "    total_loss = 0\n",
    "    criterion_test = nn.CrossEntropyLoss()\n",
    "    \n",
    "    model.eval()\n",
    "    for s1, s2, lengths, labels in loader:\n",
    "        s1_batch, s2_batch, lengths_batch, label_batch = s1.to(device), s2.to(device), lengths.to(device), labels.to(device)\n",
    "        probability = model(s1_batch, s2_batch, lengths_batch)\n",
    "        loss_test = float(criterion_test(probability, label_batch))\n",
    "        total_loss += loss_test\n",
    "        outputs = F.softmax(probability, dim=1)\n",
    "        predicted = outputs.max(1, keepdim=True)[1]\n",
    "\n",
    "        total += label_batch.size(0)\n",
    "        correct += predicted.eq(label_batch.view_as(predicted)).sum().item()\n",
    "    return (100 * correct / total), total_loss/len(loader)"
   ]
  },
  {
   "cell_type": "code",
   "execution_count": 35,
   "metadata": {},
   "outputs": [
    {
     "data": {
      "text/plain": [
       "('result/cnn_hs100_ks5.p',\n",
       " 'result/cnn_acc_hs100_ks5.pdf',\n",
       " 'result/model_cnn_hs100_ks5.pt')"
      ]
     },
     "execution_count": 35,
     "metadata": {},
     "output_type": "execute_result"
    }
   ],
   "source": [
    "HIDDEN_SIZE = 200\n",
    "Kernal_size = 3\n",
    "result_FILE = 'result/cnn_hs'+str(HIDDEN_SIZE) +'_ks' + str(Kernal_size) +'.p'\n",
    "figname = 'result/cnn_acc_hs'+str(HIDDEN_SIZE) +'_ks' + str(Kernal_size) +'.pdf'\n",
    "model_name = 'result/model_cnn_hs'+str(HIDDEN_SIZE) +'_ks' + str(Kernal_size) +'.pt'\n",
    "result_FILE, figname, model_name"
   ]
  },
  {
   "cell_type": "code",
   "execution_count": 36,
   "metadata": {},
   "outputs": [],
   "source": [
    "model = CNN(emb_size = 300, hidden_size = HIDDEN_SIZE, num_layers=2, kernal_size = Kernal_size,\n",
    "            num_classes = 3, vocab_size = pre_emb_matrix.shape[0], pretrained_weight = pre_emb_matrix).to(device)"
   ]
  },
  {
   "cell_type": "code",
   "execution_count": 37,
   "metadata": {},
   "outputs": [
    {
     "name": "stdout",
     "output_type": "stream",
     "text": [
      "6078583\n"
     ]
    }
   ],
   "source": [
    "model_parameters = filter(lambda p: p.requires_grad, model.parameters())\n",
    "params = sum([np.prod(p.size()) for p in model_parameters])\n",
    "print(params)"
   ]
  },
  {
   "cell_type": "code",
   "execution_count": 30,
   "metadata": {},
   "outputs": [],
   "source": [
    "best_val_acc = 0"
   ]
  },
  {
   "cell_type": "code",
   "execution_count": 31,
   "metadata": {},
   "outputs": [
    {
     "name": "stdout",
     "output_type": "stream",
     "text": [
      "Epoch: [1/10], Step: [301/3125], Validation Acc: 47.4\n"
     ]
    },
    {
     "name": "stderr",
     "output_type": "stream",
     "text": [
      "/home/ml5893/pyenv/py3.6.3/lib/python3.6/site-packages/torch/serialization.py:241: UserWarning: Couldn't retrieve source code for container of type CNN. It won't be checked for correctness upon loading.\n",
      "  \"type \" + obj.__name__ + \". It won't be checked \"\n"
     ]
    },
    {
     "name": "stdout",
     "output_type": "stream",
     "text": [
      "Epoch: [1/10], Step: [601/3125], Validation Acc: 53.0\n",
      "Epoch: [1/10], Step: [901/3125], Validation Acc: 52.7\n",
      "Epoch: [1/10], Step: [1201/3125], Validation Acc: 58.0\n",
      "Epoch: [1/10], Step: [1501/3125], Validation Acc: 61.6\n",
      "Epoch: [1/10], Step: [1801/3125], Validation Acc: 62.9\n",
      "Epoch: [1/10], Step: [2101/3125], Validation Acc: 62.0\n",
      "Epoch: [1/10], Step: [2401/3125], Validation Acc: 62.8\n",
      "Epoch: [1/10], Step: [2701/3125], Validation Acc: 63.5\n",
      "Epoch: [1/10], Step: [3001/3125], Validation Acc: 64.5\n",
      "Epoch: [2/10], Step: [301/3125], Validation Acc: 64.1\n",
      "Epoch: [2/10], Step: [601/3125], Validation Acc: 65.1\n",
      "Epoch: [2/10], Step: [901/3125], Validation Acc: 63.4\n",
      "Epoch: [2/10], Step: [1201/3125], Validation Acc: 64.5\n",
      "Epoch: [2/10], Step: [1501/3125], Validation Acc: 63.2\n",
      "Epoch: [2/10], Step: [1801/3125], Validation Acc: 64.2\n",
      "Epoch: [2/10], Step: [2101/3125], Validation Acc: 63.8\n",
      "Epoch: [2/10], Step: [2401/3125], Validation Acc: 64.5\n",
      "Epoch: [2/10], Step: [2701/3125], Validation Acc: 65.7\n",
      "Epoch: [2/10], Step: [3001/3125], Validation Acc: 65.5\n",
      "Epoch: [3/10], Step: [301/3125], Validation Acc: 64.1\n",
      "Epoch: [3/10], Step: [601/3125], Validation Acc: 65.7\n",
      "Epoch: [3/10], Step: [901/3125], Validation Acc: 63.8\n",
      "Epoch: [3/10], Step: [1201/3125], Validation Acc: 64.1\n",
      "Epoch: [3/10], Step: [1501/3125], Validation Acc: 65.3\n",
      "Epoch: [3/10], Step: [1801/3125], Validation Acc: 65.9\n",
      "Epoch: [3/10], Step: [2101/3125], Validation Acc: 64.9\n",
      "Epoch: [3/10], Step: [2401/3125], Validation Acc: 65.9\n",
      "Epoch: [3/10], Step: [2701/3125], Validation Acc: 65.4\n",
      "Epoch: [3/10], Step: [3001/3125], Validation Acc: 65.2\n",
      "Epoch: [4/10], Step: [301/3125], Validation Acc: 65.2\n",
      "Epoch: [4/10], Step: [601/3125], Validation Acc: 66.3\n",
      "Epoch: [4/10], Step: [901/3125], Validation Acc: 65.1\n",
      "Epoch: [4/10], Step: [1201/3125], Validation Acc: 64.7\n",
      "Epoch: [4/10], Step: [1501/3125], Validation Acc: 65.2\n",
      "Epoch: [4/10], Step: [1801/3125], Validation Acc: 63.5\n",
      "Epoch: [4/10], Step: [2101/3125], Validation Acc: 66.1\n",
      "Epoch: [4/10], Step: [2401/3125], Validation Acc: 65.2\n",
      "Epoch: [4/10], Step: [2701/3125], Validation Acc: 66.1\n",
      "Epoch: [4/10], Step: [3001/3125], Validation Acc: 65.4\n",
      "Epoch: [5/10], Step: [301/3125], Validation Acc: 65.6\n",
      "Epoch: [5/10], Step: [601/3125], Validation Acc: 64.8\n",
      "Epoch: [5/10], Step: [901/3125], Validation Acc: 66.3\n",
      "Epoch: [5/10], Step: [1201/3125], Validation Acc: 65.4\n",
      "Epoch: [5/10], Step: [1501/3125], Validation Acc: 65.7\n",
      "Epoch: [5/10], Step: [1801/3125], Validation Acc: 65.0\n",
      "Epoch: [5/10], Step: [2101/3125], Validation Acc: 66.4\n",
      "Epoch: [5/10], Step: [2401/3125], Validation Acc: 66.4\n",
      "Epoch: [5/10], Step: [2701/3125], Validation Acc: 65.4\n",
      "Epoch: [5/10], Step: [3001/3125], Validation Acc: 66.1\n",
      "Epoch: [6/10], Step: [301/3125], Validation Acc: 65.0\n",
      "Epoch: [6/10], Step: [601/3125], Validation Acc: 65.6\n",
      "Epoch: [6/10], Step: [901/3125], Validation Acc: 65.1\n",
      "Epoch: [6/10], Step: [1201/3125], Validation Acc: 65.4\n",
      "Epoch: [6/10], Step: [1501/3125], Validation Acc: 64.7\n",
      "Epoch: [6/10], Step: [1801/3125], Validation Acc: 66.2\n",
      "Epoch: [6/10], Step: [2101/3125], Validation Acc: 66.0\n",
      "Epoch: [6/10], Step: [2401/3125], Validation Acc: 66.7\n",
      "Epoch: [6/10], Step: [2701/3125], Validation Acc: 66.6\n",
      "Epoch: [6/10], Step: [3001/3125], Validation Acc: 64.9\n",
      "Epoch: [7/10], Step: [301/3125], Validation Acc: 65.6\n",
      "Epoch: [7/10], Step: [601/3125], Validation Acc: 65.3\n",
      "Epoch: [7/10], Step: [901/3125], Validation Acc: 64.9\n",
      "Epoch: [7/10], Step: [1201/3125], Validation Acc: 64.3\n",
      "Epoch: [7/10], Step: [1501/3125], Validation Acc: 64.2\n",
      "Epoch: [7/10], Step: [1801/3125], Validation Acc: 65.4\n",
      "Epoch: [7/10], Step: [2101/3125], Validation Acc: 64.6\n",
      "Epoch: [7/10], Step: [2401/3125], Validation Acc: 62.9\n",
      "Epoch: [7/10], Step: [2701/3125], Validation Acc: 65.7\n",
      "Epoch: [7/10], Step: [3001/3125], Validation Acc: 66.3\n",
      "Epoch: [8/10], Step: [301/3125], Validation Acc: 64.5\n",
      "Epoch: [8/10], Step: [601/3125], Validation Acc: 64.5\n",
      "Epoch: [8/10], Step: [901/3125], Validation Acc: 62.8\n",
      "Epoch: [8/10], Step: [1201/3125], Validation Acc: 63.7\n",
      "Epoch: [8/10], Step: [1501/3125], Validation Acc: 63.3\n",
      "Epoch: [8/10], Step: [1801/3125], Validation Acc: 64.3\n",
      "Epoch: [8/10], Step: [2101/3125], Validation Acc: 64.3\n",
      "Epoch: [8/10], Step: [2401/3125], Validation Acc: 63.9\n",
      "Epoch: [8/10], Step: [2701/3125], Validation Acc: 64.8\n",
      "Epoch: [8/10], Step: [3001/3125], Validation Acc: 64.8\n",
      "Epoch: [9/10], Step: [301/3125], Validation Acc: 64.0\n",
      "Epoch: [9/10], Step: [601/3125], Validation Acc: 64.2\n",
      "Epoch: [9/10], Step: [901/3125], Validation Acc: 64.5\n",
      "Epoch: [9/10], Step: [1201/3125], Validation Acc: 64.5\n",
      "Epoch: [9/10], Step: [1501/3125], Validation Acc: 64.6\n",
      "Epoch: [9/10], Step: [1801/3125], Validation Acc: 64.0\n",
      "Epoch: [9/10], Step: [2101/3125], Validation Acc: 63.7\n",
      "Epoch: [9/10], Step: [2401/3125], Validation Acc: 63.0\n",
      "Epoch: [9/10], Step: [2701/3125], Validation Acc: 63.6\n",
      "Epoch: [9/10], Step: [3001/3125], Validation Acc: 63.6\n",
      "Epoch: [10/10], Step: [301/3125], Validation Acc: 62.2\n",
      "Epoch: [10/10], Step: [601/3125], Validation Acc: 62.8\n",
      "Epoch: [10/10], Step: [901/3125], Validation Acc: 63.8\n",
      "Epoch: [10/10], Step: [1201/3125], Validation Acc: 63.4\n",
      "Epoch: [10/10], Step: [1501/3125], Validation Acc: 61.7\n",
      "Epoch: [10/10], Step: [1801/3125], Validation Acc: 62.8\n",
      "Epoch: [10/10], Step: [2101/3125], Validation Acc: 62.8\n",
      "Epoch: [10/10], Step: [2401/3125], Validation Acc: 65.1\n",
      "Epoch: [10/10], Step: [2701/3125], Validation Acc: 61.7\n",
      "Epoch: [10/10], Step: [3001/3125], Validation Acc: 62.4\n"
     ]
    }
   ],
   "source": [
    "learning_rate = 3e-4\n",
    "num_epochs = 10 # number epoch to train\n",
    "\n",
    "# Criterion and Optimizer\n",
    "criterion = torch.nn.CrossEntropyLoss()\n",
    "optimizer = torch.optim.Adam(model.parameters(), lr=learning_rate)\n",
    "\n",
    "val_acc_record = []\n",
    "train_acc_record = []\n",
    "val_loss_record = []\n",
    "train_loss_record = []\n",
    "step_record = []\n",
    "\n",
    "# Train the model\n",
    "total_step = len(train_loader)\n",
    "\n",
    "for epoch in range(num_epochs):\n",
    "    for i, (s1, s2, lengths, labels) in enumerate(train_loader):\n",
    "        model.train()\n",
    "        optimizer.zero_grad()\n",
    "        # Forward pass\n",
    "        outputs = model(s1.to(device), s2.to(device), lengths.to(device))\n",
    "        loss = criterion(outputs, labels.to(device))\n",
    "\n",
    "        # Backward and optimize\n",
    "        loss.backward()\n",
    "        optimizer.step()\n",
    "        # validate every 100 iterations\n",
    "        if i > 0 and i % 300 == 0:\n",
    "            # validate\n",
    "            val_acc, val_loss = test_model2(val_loader, model)\n",
    "            val_acc_record.append(val_acc)\n",
    "            val_loss_record.append(val_loss)\n",
    "            train_acc, train_loss = test_model2(train_loader, model)\n",
    "            train_acc_record.append(train_acc)\n",
    "            train_loss_record.append(train_loss)\n",
    "            step_record.append(i + epoch*total_step)\n",
    "            print('Epoch: [{}/{}], Step: [{}/{}], Validation Acc: {}'.format(\n",
    "                       epoch+1, num_epochs, i+1, len(train_loader), val_acc))\n",
    "            if val_acc > best_val_acc:\n",
    "                with open(model_name, 'wb') as f:\n",
    "                    torch.save(model, f)\n",
    "                    best_val_loss = val_loss\n",
    "\n",
    "training_curve = zip(step_record, train_acc_record, train_loss_record, val_acc_record, val_loss_record)\n",
    "pkl.dump(training_curve, open(result_FILE, \"wb\"))"
   ]
  },
  {
   "cell_type": "code",
   "execution_count": 32,
   "metadata": {},
   "outputs": [],
   "source": [
    "import matplotlib.pyplot as plt"
   ]
  },
  {
   "cell_type": "code",
   "execution_count": 41,
   "metadata": {},
   "outputs": [
    {
     "data": {
      "text/plain": [
       "100"
      ]
     },
     "execution_count": 41,
     "metadata": {},
     "output_type": "execute_result"
    }
   ],
   "source": [
    "step_record = []\n",
    "\n",
    "for epoch in range(10):\n",
    "    for i in range(3125):\n",
    "        if i>0 and i % 300 == 0:\n",
    "            step_record.append(i + epoch*total_step)\n",
    "len(step_record)"
   ]
  },
  {
   "cell_type": "code",
   "execution_count": 39,
   "metadata": {},
   "outputs": [],
   "source": [
    "training_curve = zip(step_record, train_acc_record, train_loss_record, val_acc_record, val_loss_record)\n",
    "pkl.dump(training_curve, open(result_FILE, \"wb\"))"
   ]
  },
  {
   "cell_type": "code",
   "execution_count": 80,
   "metadata": {},
   "outputs": [
    {
     "data": {
      "image/png": "[encoded data removed]",
      "text/plain": [
       "<matplotlib.figure.Figure at 0x2b2aea696780>"
      ]
     },
     "metadata": {
      "needs_background": "light"
     },
     "output_type": "display_data"
    }
   ],
   "source": [
    "plt.plot(step_record, train_acc_record, label = 'train accuracy')\n",
    "plt.plot(step_record, val_acc_record, label = 'train accuracy')\n",
    "plt.legend()\n",
    "plt.title(\"Accuracy vs Training Step\")\n",
    "plt.xlabel(\"step\")\n",
    "plt.ylabel(\"accuracy\")\n",
    "plt.savefig(figname)\n",
    "plt.show()"
   ]
  },
  {
   "cell_type": "code",
   "execution_count": 30,
   "metadata": {},
   "outputs": [],
   "source": [
    "with open(model_name, 'rb') as f:\n",
    "    best_model = torch.load(f)"
   ]
  },
  {
   "cell_type": "code",
   "execution_count": 53,
   "metadata": {},
   "outputs": [],
   "source": [
    "val_loader0 = torch.utils.data.DataLoader(dataset=val_dataset,\n",
    "                                           batch_size=1,\n",
    "                                           collate_fn=vocab_collate_func,\n",
    "                                           shuffle=False)"
   ]
  },
  {
   "cell_type": "code",
   "execution_count": 61,
   "metadata": {},
   "outputs": [
    {
     "name": "stdout",
     "output_type": "stream",
     "text": [
      "0  True label:  0   Predicted label:  2\n",
      "1  True label:  2   Predicted label:  2\n",
      "2  True label:  2   Predicted label:  2\n",
      "3  True label:  2   Predicted label:  0\n",
      "4  True label:  2   Predicted label:  0\n",
      "5  True label:  2   Predicted label:  0\n",
      "6  True label:  2   Predicted label:  0\n",
      "7  True label:  0   Predicted label:  0\n",
      "8  True label:  1   Predicted label:  2\n",
      "9  True label:  0   Predicted label:  2\n",
      "10  True label:  2   Predicted label:  2\n"
     ]
    }
   ],
   "source": [
    "n = 0\n",
    "\n",
    "for s1, s2, lengths, labels in val_loader0:\n",
    "    s1_batch, s2_batch, lengths_batch, label_batch = s1.to(device), s2.to(device), lengths.to(device), labels.to(device)\n",
    "    outputs = F.softmax(best_model(s1_batch, s2_batch, lengths_batch), dim=1)\n",
    "    predicted = outputs.max(1, keepdim=True)[1]\n",
    "    print(n, \" True label: \", labels.data.numpy()[0], \"  Predicted label: \", (predicted.data).to('cpu').numpy()[0][0])\n",
    "    n = n+1\n",
    "    if n>10:\n",
    "        break"
   ]
  },
  {
   "cell_type": "markdown",
   "metadata": {},
   "source": [
    "Incorrect Prediction"
   ]
  },
  {
   "cell_type": "code",
   "execution_count": 47,
   "metadata": {},
   "outputs": [
    {
     "data": {
      "text/plain": [
       "('Three women on a stage , one wearing red shoes , black pants , and a gray shirt is sitting on a prop , another is sitting on the floor , and the third wearing a black shirt and pants is standing , as a gentleman in the back tunes an instrument .',\n",
       " 'There are two women standing on the stage',\n",
       " 'contradiction')"
      ]
     },
     "execution_count": 47,
     "metadata": {},
     "output_type": "execute_result"
    }
   ],
   "source": [
    "data_val_s1[0], data_val_s2[0], data_val_label[0]"
   ]
  },
  {
   "cell_type": "code",
   "execution_count": 48,
   "metadata": {},
   "outputs": [
    {
     "data": {
      "text/plain": [
       "('Four people sit on a subway two read books , one looks at a cellphone and is wearing knee high boots .',\n",
       " 'Multiple people are on a subway together , with each of them doing their own thing .',\n",
       " 'entailment')"
      ]
     },
     "execution_count": 48,
     "metadata": {},
     "output_type": "execute_result"
    }
   ],
   "source": [
    "data_val_s1[3], data_val_s2[3], data_val_label[3]"
   ]
  },
  {
   "cell_type": "code",
   "execution_count": 62,
   "metadata": {},
   "outputs": [
    {
     "data": {
      "text/plain": [
       "('A group of numbered participants walk down the street together .',\n",
       " 'Participants wait for the beginning of the walkathon .',\n",
       " 'neutral')"
      ]
     },
     "execution_count": 62,
     "metadata": {},
     "output_type": "execute_result"
    }
   ],
   "source": [
    "data_val_s1[8], data_val_s2[8], data_val_label[8]"
   ]
  },
  {
   "cell_type": "markdown",
   "metadata": {},
   "source": [
    "Correct Prediction"
   ]
  },
  {
   "cell_type": "code",
   "execution_count": 65,
   "metadata": {},
   "outputs": [
    {
     "data": {
      "text/plain": [
       "('Four people sit on a subway two read books , one looks at a cellphone and is wearing knee high boots .',\n",
       " 'Multiple people are on a subway together , with each of them doing their own thing .',\n",
       " 'entailment')"
      ]
     },
     "execution_count": 65,
     "metadata": {},
     "output_type": "execute_result"
    }
   ],
   "source": [
    "data_val_s1[1], data_val_s2[1], data_val_label[1]"
   ]
  },
  {
   "cell_type": "code",
   "execution_count": 64,
   "metadata": {},
   "outputs": [
    {
     "data": {
      "text/plain": [
       "('bicycles stationed while a group of people socialize .',\n",
       " 'People get together near a stand of bicycles .',\n",
       " 'entailment')"
      ]
     },
     "execution_count": 64,
     "metadata": {},
     "output_type": "execute_result"
    }
   ],
   "source": [
    "data_val_s1[2], data_val_s2[2], data_val_label[2]"
   ]
  },
  {
   "cell_type": "code",
   "execution_count": 66,
   "metadata": {},
   "outputs": [
    {
     "data": {
      "text/plain": [
       "('Two women , one walking her dog the other pushing a stroller .',\n",
       " 'There is a snowstorm .',\n",
       " 'contradiction')"
      ]
     },
     "execution_count": 66,
     "metadata": {},
     "output_type": "execute_result"
    }
   ],
   "source": [
    "data_val_s1[7], data_val_s2[7], data_val_label[7]"
   ]
  },
  {
   "cell_type": "markdown",
   "metadata": {},
   "source": [
    "Evaluating on MultiNLI"
   ]
  },
  {
   "cell_type": "code",
   "execution_count": 31,
   "metadata": {},
   "outputs": [
    {
     "name": "stdout",
     "output_type": "stream",
     "text": [
      "all_train_tokens.p   hw2_rnn_1-Copy1.ipynb  pre_emb_matrix\r\n",
      "data_train_tokens.p  hw2_rnn_1.ipynb\t    result\r\n",
      "data_val_tokens.p    hw2_rnn_2.ipynb\t    snli_train.tsv\r\n",
      "hw2_cnn-Copy1.ipynb  mnli_train.tsv\t    snli_val.tsv\r\n",
      "hw2_cnn.ipynb\t     mnli_val.tsv\t    wiki-news-300d-1M.vec\r\n"
     ]
    }
   ],
   "source": [
    "!ls"
   ]
  },
  {
   "cell_type": "code",
   "execution_count": 32,
   "metadata": {},
   "outputs": [],
   "source": [
    "data_test = []\n",
    "with open('mnli_val.tsv','r', encoding = 'utf-8', newline = '') as file:\n",
    "    tsvreader = csv.reader(file, delimiter='\\t')\n",
    "    data_test = [line for line in tsvreader]"
   ]
  },
  {
   "cell_type": "code",
   "execution_count": 36,
   "metadata": {},
   "outputs": [
    {
     "data": {
      "text/plain": [
       "5001"
      ]
     },
     "execution_count": 36,
     "metadata": {},
     "output_type": "execute_result"
    }
   ],
   "source": [
    "len(data_test)"
   ]
  },
  {
   "cell_type": "code",
   "execution_count": 37,
   "metadata": {},
   "outputs": [
    {
     "data": {
      "text/plain": [
       "['sentence1', 'sentence2', 'label', 'genre']"
      ]
     },
     "execution_count": 37,
     "metadata": {},
     "output_type": "execute_result"
    }
   ],
   "source": [
    "data_test_head = data_test[0]\n",
    "data_test_head"
   ]
  },
  {
   "cell_type": "code",
   "execution_count": 38,
   "metadata": {},
   "outputs": [
    {
     "data": {
      "text/plain": [
       "5000"
      ]
     },
     "execution_count": 38,
     "metadata": {},
     "output_type": "execute_result"
    }
   ],
   "source": [
    "data_test = data_test[1:]\n",
    "len(data_test)"
   ]
  },
  {
   "cell_type": "code",
   "execution_count": 44,
   "metadata": {},
   "outputs": [
    {
     "data": {
      "text/plain": [
       "[\"'Not entirely , ' I snapped , harsher than intended .\",\n",
       " 'I spoke more harshly than I wanted to .',\n",
       " 'entailment',\n",
       " 'fiction']"
      ]
     },
     "execution_count": 44,
     "metadata": {},
     "output_type": "execute_result"
    }
   ],
   "source": [
    "data_test[0]"
   ]
  },
  {
   "cell_type": "code",
   "execution_count": 39,
   "metadata": {},
   "outputs": [],
   "source": [
    "s1_test, s2_test, label_test, genre = zip(*data_test)"
   ]
  },
  {
   "cell_type": "code",
   "execution_count": 43,
   "metadata": {},
   "outputs": [
    {
     "data": {
      "text/plain": [
       "['slate', 'travel', 'fiction', 'government', 'telephone']"
      ]
     },
     "execution_count": 43,
     "metadata": {},
     "output_type": "execute_result"
    }
   ],
   "source": [
    "genre_set = list(set(genre))\n",
    "genre_set"
   ]
  },
  {
   "cell_type": "code",
   "execution_count": 48,
   "metadata": {},
   "outputs": [],
   "source": [
    "data_t = {'slate': [], 'travel': [], 'fiction': [], 'government': [], 'telephone': []}"
   ]
  },
  {
   "cell_type": "code",
   "execution_count": 49,
   "metadata": {},
   "outputs": [],
   "source": [
    "for i in range(len(data_test)):\n",
    "    data_t[data_test[i][-1]].append(data_test[i][:-1])"
   ]
  },
  {
   "cell_type": "code",
   "execution_count": 52,
   "metadata": {},
   "outputs": [
    {
     "data": {
      "text/plain": [
       "5000"
      ]
     },
     "execution_count": 52,
     "metadata": {},
     "output_type": "execute_result"
    }
   ],
   "source": [
    "len(data_t['slate']) + len(data_t['travel']) + len(data_t['fiction']) +len(data_t['government']) +len(data_t['telephone'])"
   ]
  },
  {
   "cell_type": "code",
   "execution_count": null,
   "metadata": {},
   "outputs": [],
   "source": [
    "test_acc = {'slate': 0, 'travel': 0, 'fiction': 0, 'government': 0, 'telephone': 0}"
   ]
  },
  {
   "cell_type": "code",
   "execution_count": 53,
   "metadata": {},
   "outputs": [
    {
     "name": "stdout",
     "output_type": "stream",
     "text": [
      "slate\n",
      "40.818363273453095\n",
      "travel\n",
      "45.11201629327902\n",
      "fiction\n",
      "40.904522613065325\n",
      "government\n",
      "42.224409448818896\n",
      "telephone\n",
      "43.38308457711443\n"
     ]
    }
   ],
   "source": [
    "for gen in genre_set:\n",
    "    print(gen)\n",
    "    \n",
    "    data_s1, data_s2, data_label = zip(*data_t[gen])\n",
    "    data_s1_tokens, _ = tokenize_dataset_ngrams(data_s1)\n",
    "    data_s2_tokens, _ = tokenize_dataset_ngrams(data_s2)\n",
    "    data_label0 = convert_labels(data_label)\n",
    "    \n",
    "    data_s1_indices = token2index_dataset(data_s1_tokens, token2id)\n",
    "    data_s2_indices = token2index_dataset(data_s2_tokens, token2id)\n",
    "    \n",
    "    test_dataset = SNLIDataset(data_s1_indices, data_s2_indices, data_label0)\n",
    "    test_loader = torch.utils.data.DataLoader(dataset=test_dataset,\n",
    "                                           batch_size=BATCH_SIZE,\n",
    "                                           collate_fn=vocab_collate_func,\n",
    "                                           shuffle=True)\n",
    "    test_acc, test_loss = test_model2(test_loader, best_model)\n",
    "    print(test_acc)"
   ]
  },
  {
   "cell_type": "code",
   "execution_count": null,
   "metadata": {},
   "outputs": [],
   "source": []
  },
  {
   "cell_type": "code",
   "execution_count": null,
   "metadata": {},
   "outputs": [],
   "source": [
    "data_val_s1_tokens, _ = tokenize_dataset_ngrams(data_val_s1)\n",
    "data_val_s2_tokens, _ = tokenize_dataset_ngrams(data_val_s2)\n",
    "data_val_label0 = convert_labels(data_val_label)"
   ]
  },
  {
   "cell_type": "code",
   "execution_count": null,
   "metadata": {},
   "outputs": [],
   "source": [
    "data_val_s1_indices = token2index_dataset(data_val_s1_tokens, token2id)\n",
    "data_val_s2_indices = token2index_dataset(data_val_s2_tokens, token2id)\n",
    "data_train_s1_indices = token2index_dataset(data_train_s1_tokens, token2id)\n",
    "data_train_s2_indices = token2index_dataset(data_train_s2_tokens, token2id)"
   ]
  },
  {
   "cell_type": "code",
   "execution_count": null,
   "metadata": {},
   "outputs": [],
   "source": [
    "val_dataset = SNLIDataset(data_val_s1_indices, data_val_s2_indices, data_val_label0)\n",
    "val_loader = torch.utils.data.DataLoader(dataset=val_dataset,\n",
    "                                           batch_size=BATCH_SIZE,\n",
    "                                           collate_fn=vocab_collate_func,\n",
    "                                           shuffle=True)"
   ]
  },
  {
   "cell_type": "code",
   "execution_count": null,
   "metadata": {},
   "outputs": [],
   "source": []
  },
  {
   "cell_type": "code",
   "execution_count": null,
   "metadata": {},
   "outputs": [],
   "source": []
  },
  {
   "cell_type": "code",
   "execution_count": null,
   "metadata": {},
   "outputs": [],
   "source": []
  },
  {
   "cell_type": "code",
   "execution_count": null,
   "metadata": {},
   "outputs": [],
   "source": []
  },
  {
   "cell_type": "code",
   "execution_count": null,
   "metadata": {},
   "outputs": [],
   "source": []
  }
 ],
 "metadata": {
  "kernelspec": {
   "display_name": "Python 3",
   "language": "python",
   "name": "python3"
  },
  "language_info": {
   "codemirror_mode": {
    "name": "ipython",
    "version": 3
   },
   "file_extension": ".py",
   "mimetype": "text/x-python",
   "name": "python",
   "nbconvert_exporter": "python",
   "pygments_lexer": "ipython3",
   "version": "3.6.3"
  }
 },
 "nbformat": 4,
 "nbformat_minor": 2
}
